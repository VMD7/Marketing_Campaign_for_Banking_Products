{
 "cells": [
  {
   "cell_type": "markdown",
   "metadata": {
    "colab_type": "text",
    "id": "c2_yWB9KgApz"
   },
   "source": [
    "# **Marketing Campaign for Banking Products**"
   ]
  },
  {
   "cell_type": "markdown",
   "metadata": {
    "colab_type": "text",
    "id": "e_NEaDYBgFIe"
   },
   "source": [
    "\n",
    "\n",
    "---\n",
    "\n",
    "\n",
    "\n",
    "---\n",
    "\n",
    "\n",
    "**Name of the Student**      : Vijay Manohar Devane\n",
    "\n",
    "**Internship Project Topic** : Marketing Campaign for Banking Products\n",
    "\n",
    "**Name of the Institute**    : Shri Guru Gobind Singhji Institute of Engineering and Technology, Nanded\n",
    "\n",
    "\n",
    "---\n",
    "\n",
    "\n",
    "\n",
    "---\n"
   ]
  },
  {
   "cell_type": "markdown",
   "metadata": {
    "colab_type": "text",
    "id": "iCwEB8lkgIqo"
   },
   "source": [
    "## **Introduction**\n",
    "\n",
    "The bank has a growing customer base. The bank wants to increase borrowers (asset customers) base to bring in more loan business and earn more through the interest on loans. So , the bank wants to convert the liability based customers to personal loan customers. (while retaining them as depositors). A campaign that the bank ran last year for liability customers showed a healthy conversion rate of over 9% success. The department wants to build a model that will help them identify the potential customers who have a higher probability of purchasing the loan. This will increase the success ratio while at the same time reduce the cost of the campaign.\n",
    "\n",
    "**Objective**\n",
    "The classification goal is to predict the likelihood of a liability customer buying personal loans.\n",
    "\n",
    "This is classification problem. We can solve this problem using following steps:\n",
    "\n",
    "0. Importing Necessary Packages\n",
    "\n",
    "1. Data Collection and Visualization\n",
    "\n",
    "2. Exploratory Data Analysis (EDA)\n",
    "\n",
    "3. Data Cleaning\n",
    "\n",
    "4. Transformations for Feature Variables\n",
    "\n",
    "5. Train-Test Split of Data\n",
    "\n",
    "6. Applying Logistic Regression Model\n",
    "\n",
    "7. Model Evaluation\n",
    "\n",
    "8. Building various other classification Algorithms and its comparison\n",
    "\n",
    "9. Business Understanding of this Model\n",
    "\n",
    "\n",
    "   \n",
    "   "
   ]
  },
  {
   "cell_type": "markdown",
   "metadata": {
    "colab_type": "text",
    "id": "ifAGHllOgTx_"
   },
   "source": [
    "## **Importing Necessary Packages**"
   ]
  },
  {
   "cell_type": "code",
   "execution_count": 1,
   "metadata": {
    "colab": {
     "base_uri": "https://localhost:8080/",
     "height": 139
    },
    "colab_type": "code",
    "id": "cSMEDMIwTcpt",
    "outputId": "6e6dfd05-5c71-4a56-e30b-af0ba9013cd8"
   },
   "outputs": [
    {
     "name": "stderr",
     "output_type": "stream",
     "text": [
      "/usr/local/lib/python3.6/dist-packages/statsmodels/tools/_testing.py:19: FutureWarning: pandas.util.testing is deprecated. Use the functions in the public API at pandas.testing instead.\n",
      "  import pandas.util.testing as tm\n",
      "/usr/local/lib/python3.6/dist-packages/sklearn/externals/six.py:31: FutureWarning: The module is deprecated in version 0.21 and will be removed in version 0.23 since we've dropped support for Python 2.7. Please rely on the official version of six (https://pypi.org/project/six/).\n",
      "  \"(https://pypi.org/project/six/).\", FutureWarning)\n",
      "/usr/local/lib/python3.6/dist-packages/sklearn/utils/deprecation.py:144: FutureWarning: The sklearn.neighbors.base module is  deprecated in version 0.22 and will be removed in version 0.24. The corresponding classes / functions should instead be imported from sklearn.neighbors. Anything that cannot be imported from sklearn.neighbors is now part of the private API.\n",
      "  warnings.warn(message, FutureWarning)\n"
     ]
    }
   ],
   "source": [
    "import pandas as pd\n",
    "import numpy as np\n",
    "import matplotlib.pyplot as plt\n",
    "import seaborn as sns\n",
    "%matplotlib inline\n",
    "\n",
    "import os\n",
    "\n",
    "\n",
    "from sklearn.preprocessing import MinMaxScaler,StandardScaler,robust_scale\n",
    "from sklearn.model_selection import train_test_split,cross_val_score\n",
    "from sklearn.linear_model import LogisticRegression\n",
    "from sklearn.metrics import classification_report, matthews_corrcoef, roc_auc_score, confusion_matrix, accuracy_score,recall_score\n",
    "from sklearn.model_selection import learning_curve\n",
    "\n",
    "from xgboost import XGBClassifier\n",
    "from imblearn.over_sampling import RandomOverSampler\n",
    "\n",
    "from sklearn.model_selection import learning_curve\n",
    "from sklearn.tree import DecisionTreeClassifier\n",
    "from sklearn.ensemble import RandomForestClassifier\n",
    "from sklearn.model_selection import learning_curve\n",
    "from sklearn.neighbors import KNeighborsClassifier\n",
    "\n",
    "import keras\n",
    "from keras.models import Sequential\n",
    "from keras.layers import Dense\n",
    "from keras.layers import Dropout\n",
    "\n",
    "import random\n",
    "from sklearn.preprocessing import MinMaxScaler,StandardScaler,robust_scale\n",
    "from sklearn.model_selection import train_test_split,cross_val_score\n",
    "from imblearn.over_sampling import RandomOverSampler\n",
    "import keras.backend as K\n",
    "from sklearn.preprocessing import MinMaxScaler,StandardScaler,robust_scale\n",
    "from sklearn.model_selection import train_test_split,cross_val_score\n",
    "\n"
   ]
  },
  {
   "cell_type": "markdown",
   "metadata": {
    "colab_type": "text",
    "id": "A386OSjBglD3"
   },
   "source": [
    "## **Data Collection and Visualization**\n",
    "\n",
    "We used Bank Personal Loan dataset. The dataset contains data of 5000 customers. The data include customer demographic information (age, income, etc.), the customer's relationship with the bank (mortgage, securities account, etc.), and the customer response to the last personal loan campaign (Personal Loan). Among these 5000 customers, only 480 (= 9.6%) accepted the personal loan that was offered to them in the earlier campaign.\n",
    "\n",
    "Link of dataset [Click Here](https://www.kaggle.com/itsmesunil/bank-loan-modelling/download)."
   ]
  },
  {
   "cell_type": "markdown",
   "metadata": {
    "colab_type": "text",
    "id": "RWvVxj_LgrSe"
   },
   "source": [
    "### **Data Collection**\n",
    "\n",
    "Importing the dataset from google drive by using pandas command."
   ]
  },
  {
   "cell_type": "code",
   "execution_count": 3,
   "metadata": {
    "colab": {},
    "colab_type": "code",
    "id": "qfSsQCU-T4Uq"
   },
   "outputs": [],
   "source": [
    "original = pd.read_excel('Data/Bank_Personal_Loan_Modelling.xlsx',sheet_name='Data')"
   ]
  },
  {
   "cell_type": "markdown",
   "metadata": {
    "colab_type": "text",
    "id": "EAIOcDPQgyDC"
   },
   "source": [
    "### **Data Visualization**\n",
    "\n",
    "**Attribute Information:**\n",
    "\n",
    "* ID: Customer ID\n",
    "\n",
    "* Age: Customer's age in completed years\n",
    "\n",
    "* Experience: #years of professional experience\n",
    "\n",
    "* Income: Annual income of the customer ($000)\n",
    "\n",
    "* ZIP Code: Home Address ZIP code.\n",
    "\n",
    "* Family: Family size of the customer\n",
    "\n",
    "* CCAvg: Avg. spending on credit cards per month ($000)\n",
    "\n",
    "* Education: Education Level. 1: Undergrad; 2: Graduate; 3: Advanced/Professional\n",
    "\n",
    "* Mortgage: Value of house mortgage if any. ($000)\n",
    "\n",
    "* Personal Loan: Did this customer accept the personal loan offered in the last campaign?\n",
    "\n",
    "* Securities Account: Does the customer have a securities account with the bank?\n",
    "\n",
    "* CD Account: Does the customer have a certificate of deposit (CD) account with\n",
    "the bank?\n",
    "\n",
    "* Online: Does the customer use internet banking facilities?\n",
    "\n",
    "* Credit card: Does the customer use a credit card issued by the bank?\n"
   ]
  },
  {
   "cell_type": "code",
   "execution_count": 4,
   "metadata": {
    "colab": {},
    "colab_type": "code",
    "id": "PWPOCyOKUGiF"
   },
   "outputs": [],
   "source": [
    "feature=original.drop(\"Personal Loan\",axis=1)\n",
    "target=original[\"Personal Loan\"]\n",
    "\n",
    "loans = feature.join(target)"
   ]
  },
  {
   "cell_type": "code",
   "execution_count": 5,
   "metadata": {
    "colab": {
     "base_uri": "https://localhost:8080/",
     "height": 204
    },
    "colab_type": "code",
    "id": "KC9R5qIbULpN",
    "outputId": "0b8ec54f-a1ff-4b92-cfde-377c1fc13077"
   },
   "outputs": [
    {
     "data": {
      "text/html": [
       "<div>\n",
       "<style scoped>\n",
       "    .dataframe tbody tr th:only-of-type {\n",
       "        vertical-align: middle;\n",
       "    }\n",
       "\n",
       "    .dataframe tbody tr th {\n",
       "        vertical-align: top;\n",
       "    }\n",
       "\n",
       "    .dataframe thead th {\n",
       "        text-align: right;\n",
       "    }\n",
       "</style>\n",
       "<table border=\"1\" class=\"dataframe\">\n",
       "  <thead>\n",
       "    <tr style=\"text-align: right;\">\n",
       "      <th></th>\n",
       "      <th>ID</th>\n",
       "      <th>Age</th>\n",
       "      <th>Experience</th>\n",
       "      <th>Income</th>\n",
       "      <th>ZIP Code</th>\n",
       "      <th>Family</th>\n",
       "      <th>CCAvg</th>\n",
       "      <th>Education</th>\n",
       "      <th>Mortgage</th>\n",
       "      <th>Securities Account</th>\n",
       "      <th>CD Account</th>\n",
       "      <th>Online</th>\n",
       "      <th>CreditCard</th>\n",
       "      <th>Personal Loan</th>\n",
       "    </tr>\n",
       "  </thead>\n",
       "  <tbody>\n",
       "    <tr>\n",
       "      <th>0</th>\n",
       "      <td>1</td>\n",
       "      <td>25</td>\n",
       "      <td>1</td>\n",
       "      <td>49</td>\n",
       "      <td>91107</td>\n",
       "      <td>4</td>\n",
       "      <td>1.6</td>\n",
       "      <td>1</td>\n",
       "      <td>0</td>\n",
       "      <td>1</td>\n",
       "      <td>0</td>\n",
       "      <td>0</td>\n",
       "      <td>0</td>\n",
       "      <td>0</td>\n",
       "    </tr>\n",
       "    <tr>\n",
       "      <th>1</th>\n",
       "      <td>2</td>\n",
       "      <td>45</td>\n",
       "      <td>19</td>\n",
       "      <td>34</td>\n",
       "      <td>90089</td>\n",
       "      <td>3</td>\n",
       "      <td>1.5</td>\n",
       "      <td>1</td>\n",
       "      <td>0</td>\n",
       "      <td>1</td>\n",
       "      <td>0</td>\n",
       "      <td>0</td>\n",
       "      <td>0</td>\n",
       "      <td>0</td>\n",
       "    </tr>\n",
       "    <tr>\n",
       "      <th>2</th>\n",
       "      <td>3</td>\n",
       "      <td>39</td>\n",
       "      <td>15</td>\n",
       "      <td>11</td>\n",
       "      <td>94720</td>\n",
       "      <td>1</td>\n",
       "      <td>1.0</td>\n",
       "      <td>1</td>\n",
       "      <td>0</td>\n",
       "      <td>0</td>\n",
       "      <td>0</td>\n",
       "      <td>0</td>\n",
       "      <td>0</td>\n",
       "      <td>0</td>\n",
       "    </tr>\n",
       "    <tr>\n",
       "      <th>3</th>\n",
       "      <td>4</td>\n",
       "      <td>35</td>\n",
       "      <td>9</td>\n",
       "      <td>100</td>\n",
       "      <td>94112</td>\n",
       "      <td>1</td>\n",
       "      <td>2.7</td>\n",
       "      <td>2</td>\n",
       "      <td>0</td>\n",
       "      <td>0</td>\n",
       "      <td>0</td>\n",
       "      <td>0</td>\n",
       "      <td>0</td>\n",
       "      <td>0</td>\n",
       "    </tr>\n",
       "    <tr>\n",
       "      <th>4</th>\n",
       "      <td>5</td>\n",
       "      <td>35</td>\n",
       "      <td>8</td>\n",
       "      <td>45</td>\n",
       "      <td>91330</td>\n",
       "      <td>4</td>\n",
       "      <td>1.0</td>\n",
       "      <td>2</td>\n",
       "      <td>0</td>\n",
       "      <td>0</td>\n",
       "      <td>0</td>\n",
       "      <td>0</td>\n",
       "      <td>1</td>\n",
       "      <td>0</td>\n",
       "    </tr>\n",
       "  </tbody>\n",
       "</table>\n",
       "</div>"
      ],
      "text/plain": [
       "   ID  Age  Experience  Income  ...  CD Account  Online  CreditCard  Personal Loan\n",
       "0   1   25           1      49  ...           0       0           0              0\n",
       "1   2   45          19      34  ...           0       0           0              0\n",
       "2   3   39          15      11  ...           0       0           0              0\n",
       "3   4   35           9     100  ...           0       0           0              0\n",
       "4   5   35           8      45  ...           0       0           1              0\n",
       "\n",
       "[5 rows x 14 columns]"
      ]
     },
     "execution_count": 5,
     "metadata": {
      "tags": []
     },
     "output_type": "execute_result"
    }
   ],
   "source": [
    "loans.head(5)  # Checking first 10 values information in dataset."
   ]
  },
  {
   "cell_type": "code",
   "execution_count": 6,
   "metadata": {
    "colab": {
     "base_uri": "https://localhost:8080/",
     "height": 204
    },
    "colab_type": "code",
    "id": "KuRMzbHaUNZB",
    "outputId": "acb39d4c-fee6-4f15-cb48-56f49b9f0c3d"
   },
   "outputs": [
    {
     "data": {
      "text/html": [
       "<div>\n",
       "<style scoped>\n",
       "    .dataframe tbody tr th:only-of-type {\n",
       "        vertical-align: middle;\n",
       "    }\n",
       "\n",
       "    .dataframe tbody tr th {\n",
       "        vertical-align: top;\n",
       "    }\n",
       "\n",
       "    .dataframe thead th {\n",
       "        text-align: right;\n",
       "    }\n",
       "</style>\n",
       "<table border=\"1\" class=\"dataframe\">\n",
       "  <thead>\n",
       "    <tr style=\"text-align: right;\">\n",
       "      <th></th>\n",
       "      <th>ID</th>\n",
       "      <th>Age</th>\n",
       "      <th>Experience</th>\n",
       "      <th>Income</th>\n",
       "      <th>ZIP Code</th>\n",
       "      <th>Family</th>\n",
       "      <th>CCAvg</th>\n",
       "      <th>Education</th>\n",
       "      <th>Mortgage</th>\n",
       "      <th>Securities Account</th>\n",
       "      <th>CD Account</th>\n",
       "      <th>Online</th>\n",
       "      <th>CreditCard</th>\n",
       "      <th>Personal Loan</th>\n",
       "    </tr>\n",
       "  </thead>\n",
       "  <tbody>\n",
       "    <tr>\n",
       "      <th>4995</th>\n",
       "      <td>4996</td>\n",
       "      <td>29</td>\n",
       "      <td>3</td>\n",
       "      <td>40</td>\n",
       "      <td>92697</td>\n",
       "      <td>1</td>\n",
       "      <td>1.9</td>\n",
       "      <td>3</td>\n",
       "      <td>0</td>\n",
       "      <td>0</td>\n",
       "      <td>0</td>\n",
       "      <td>1</td>\n",
       "      <td>0</td>\n",
       "      <td>0</td>\n",
       "    </tr>\n",
       "    <tr>\n",
       "      <th>4996</th>\n",
       "      <td>4997</td>\n",
       "      <td>30</td>\n",
       "      <td>4</td>\n",
       "      <td>15</td>\n",
       "      <td>92037</td>\n",
       "      <td>4</td>\n",
       "      <td>0.4</td>\n",
       "      <td>1</td>\n",
       "      <td>85</td>\n",
       "      <td>0</td>\n",
       "      <td>0</td>\n",
       "      <td>1</td>\n",
       "      <td>0</td>\n",
       "      <td>0</td>\n",
       "    </tr>\n",
       "    <tr>\n",
       "      <th>4997</th>\n",
       "      <td>4998</td>\n",
       "      <td>63</td>\n",
       "      <td>39</td>\n",
       "      <td>24</td>\n",
       "      <td>93023</td>\n",
       "      <td>2</td>\n",
       "      <td>0.3</td>\n",
       "      <td>3</td>\n",
       "      <td>0</td>\n",
       "      <td>0</td>\n",
       "      <td>0</td>\n",
       "      <td>0</td>\n",
       "      <td>0</td>\n",
       "      <td>0</td>\n",
       "    </tr>\n",
       "    <tr>\n",
       "      <th>4998</th>\n",
       "      <td>4999</td>\n",
       "      <td>65</td>\n",
       "      <td>40</td>\n",
       "      <td>49</td>\n",
       "      <td>90034</td>\n",
       "      <td>3</td>\n",
       "      <td>0.5</td>\n",
       "      <td>2</td>\n",
       "      <td>0</td>\n",
       "      <td>0</td>\n",
       "      <td>0</td>\n",
       "      <td>1</td>\n",
       "      <td>0</td>\n",
       "      <td>0</td>\n",
       "    </tr>\n",
       "    <tr>\n",
       "      <th>4999</th>\n",
       "      <td>5000</td>\n",
       "      <td>28</td>\n",
       "      <td>4</td>\n",
       "      <td>83</td>\n",
       "      <td>92612</td>\n",
       "      <td>3</td>\n",
       "      <td>0.8</td>\n",
       "      <td>1</td>\n",
       "      <td>0</td>\n",
       "      <td>0</td>\n",
       "      <td>0</td>\n",
       "      <td>1</td>\n",
       "      <td>1</td>\n",
       "      <td>0</td>\n",
       "    </tr>\n",
       "  </tbody>\n",
       "</table>\n",
       "</div>"
      ],
      "text/plain": [
       "        ID  Age  Experience  ...  Online  CreditCard  Personal Loan\n",
       "4995  4996   29           3  ...       1           0              0\n",
       "4996  4997   30           4  ...       1           0              0\n",
       "4997  4998   63          39  ...       0           0              0\n",
       "4998  4999   65          40  ...       1           0              0\n",
       "4999  5000   28           4  ...       1           1              0\n",
       "\n",
       "[5 rows x 14 columns]"
      ]
     },
     "execution_count": 6,
     "metadata": {
      "tags": []
     },
     "output_type": "execute_result"
    }
   ],
   "source": [
    "loans.tail(5)    # Checking some last elements of dataset."
   ]
  },
  {
   "cell_type": "code",
   "execution_count": 7,
   "metadata": {
    "colab": {
     "base_uri": "https://localhost:8080/",
     "height": 272
    },
    "colab_type": "code",
    "id": "8DD1nvWWhNWG",
    "outputId": "9a86eee9-4e3e-48e9-c7a2-27db15d8cdde"
   },
   "outputs": [
    {
     "data": {
      "text/plain": [
       "ID                      int64\n",
       "Age                     int64\n",
       "Experience              int64\n",
       "Income                  int64\n",
       "ZIP Code                int64\n",
       "Family                  int64\n",
       "CCAvg                 float64\n",
       "Education               int64\n",
       "Mortgage                int64\n",
       "Securities Account      int64\n",
       "CD Account              int64\n",
       "Online                  int64\n",
       "CreditCard              int64\n",
       "Personal Loan           int64\n",
       "dtype: object"
      ]
     },
     "execution_count": 7,
     "metadata": {
      "tags": []
     },
     "output_type": "execute_result"
    }
   ],
   "source": [
    "loans.dtypes      # It checks the datatype of the each column data."
   ]
  },
  {
   "cell_type": "code",
   "execution_count": 8,
   "metadata": {
    "colab": {
     "base_uri": "https://localhost:8080/",
     "height": 85
    },
    "colab_type": "code",
    "id": "exOXigpghwX3",
    "outputId": "f24dba32-8740-495a-c984-4c66d7b74e1e"
   },
   "outputs": [
    {
     "data": {
      "text/plain": [
       "Index(['ID', 'Age', 'Experience', 'Income', 'ZIP Code', 'Family', 'CCAvg',\n",
       "       'Education', 'Mortgage', 'Securities Account', 'CD Account', 'Online',\n",
       "       'CreditCard', 'Personal Loan'],\n",
       "      dtype='object')"
      ]
     },
     "execution_count": 8,
     "metadata": {
      "tags": []
     },
     "output_type": "execute_result"
    }
   ],
   "source": [
    "loans.columns    # It gives the no. of columns present in dataset."
   ]
  },
  {
   "cell_type": "markdown",
   "metadata": {
    "colab_type": "text",
    "id": "a400OjZMhy9u"
   },
   "source": [
    "Information on the features or attributes\n",
    "\n",
    "The attributes can be divided accordingly :\n",
    "\n",
    "* The variable ID does not add any interesting information. There is no association between a person's customer ID and loan, also it does not provide any general conclusion for future potential loan customers. We can neglect this information for our model prediction.\n",
    "\n",
    "The binary category have five variables as below:\n",
    "\n",
    "* Personal Loan - Did this customer accept the personal loan offered in the last campaign? This is our target variable\n",
    "* Securities Account - Does the customer have a securities account with the bank?\n",
    "* CD Account - Does the customer have a certificate of deposit (CD) account with the bank?\n",
    "* Online - Does the customer use internet banking facilities?\n",
    "* Credit Card - Does the customer use a credit card issued by UniversalBank?\n",
    "Interval variables are as below:\n",
    "* Age - Age of the customer\n",
    "* Experience - Years of experience\n",
    "* Income - Annual income in dollars\n",
    "* CCAvg - Average credit card spending\n",
    "* Mortage - Value of House Mortgage\n",
    "\n",
    "Ordinal Categorical Variables are:\n",
    "\n",
    "* Family - Family size of the customer\n",
    "* Education - education level of the customer\n",
    "\n",
    "The nominal variable is :\n",
    "\n",
    "* ID\n",
    "* Zip Code\n"
   ]
  },
  {
   "cell_type": "code",
   "execution_count": 9,
   "metadata": {
    "colab": {
     "base_uri": "https://localhost:8080/",
     "height": 334
    },
    "colab_type": "code",
    "id": "LcDZwybwh9U_",
    "outputId": "d3310929-7917-4a99-a0b8-3143a6d090a3"
   },
   "outputs": [
    {
     "data": {
      "text/html": [
       "<div>\n",
       "<style scoped>\n",
       "    .dataframe tbody tr th:only-of-type {\n",
       "        vertical-align: middle;\n",
       "    }\n",
       "\n",
       "    .dataframe tbody tr th {\n",
       "        vertical-align: top;\n",
       "    }\n",
       "\n",
       "    .dataframe thead th {\n",
       "        text-align: right;\n",
       "    }\n",
       "</style>\n",
       "<table border=\"1\" class=\"dataframe\">\n",
       "  <thead>\n",
       "    <tr style=\"text-align: right;\">\n",
       "      <th></th>\n",
       "      <th>ID</th>\n",
       "      <th>Age</th>\n",
       "      <th>Experience</th>\n",
       "      <th>Income</th>\n",
       "      <th>ZIP Code</th>\n",
       "      <th>Family</th>\n",
       "      <th>CCAvg</th>\n",
       "      <th>Education</th>\n",
       "      <th>Mortgage</th>\n",
       "      <th>Securities Account</th>\n",
       "      <th>CD Account</th>\n",
       "      <th>Online</th>\n",
       "      <th>CreditCard</th>\n",
       "      <th>Personal Loan</th>\n",
       "    </tr>\n",
       "  </thead>\n",
       "  <tbody>\n",
       "    <tr>\n",
       "      <th>count</th>\n",
       "      <td>5000.000000</td>\n",
       "      <td>5000.000000</td>\n",
       "      <td>5000.000000</td>\n",
       "      <td>5000.000000</td>\n",
       "      <td>5000.000000</td>\n",
       "      <td>5000.000000</td>\n",
       "      <td>5000.000000</td>\n",
       "      <td>5000.000000</td>\n",
       "      <td>5000.000000</td>\n",
       "      <td>5000.000000</td>\n",
       "      <td>5000.00000</td>\n",
       "      <td>5000.000000</td>\n",
       "      <td>5000.000000</td>\n",
       "      <td>5000.000000</td>\n",
       "    </tr>\n",
       "    <tr>\n",
       "      <th>mean</th>\n",
       "      <td>2500.500000</td>\n",
       "      <td>45.338400</td>\n",
       "      <td>20.104600</td>\n",
       "      <td>73.774200</td>\n",
       "      <td>93152.503000</td>\n",
       "      <td>2.396400</td>\n",
       "      <td>1.937913</td>\n",
       "      <td>1.881000</td>\n",
       "      <td>56.498800</td>\n",
       "      <td>0.104400</td>\n",
       "      <td>0.06040</td>\n",
       "      <td>0.596800</td>\n",
       "      <td>0.294000</td>\n",
       "      <td>0.096000</td>\n",
       "    </tr>\n",
       "    <tr>\n",
       "      <th>std</th>\n",
       "      <td>1443.520003</td>\n",
       "      <td>11.463166</td>\n",
       "      <td>11.467954</td>\n",
       "      <td>46.033729</td>\n",
       "      <td>2121.852197</td>\n",
       "      <td>1.147663</td>\n",
       "      <td>1.747666</td>\n",
       "      <td>0.839869</td>\n",
       "      <td>101.713802</td>\n",
       "      <td>0.305809</td>\n",
       "      <td>0.23825</td>\n",
       "      <td>0.490589</td>\n",
       "      <td>0.455637</td>\n",
       "      <td>0.294621</td>\n",
       "    </tr>\n",
       "    <tr>\n",
       "      <th>min</th>\n",
       "      <td>1.000000</td>\n",
       "      <td>23.000000</td>\n",
       "      <td>-3.000000</td>\n",
       "      <td>8.000000</td>\n",
       "      <td>9307.000000</td>\n",
       "      <td>1.000000</td>\n",
       "      <td>0.000000</td>\n",
       "      <td>1.000000</td>\n",
       "      <td>0.000000</td>\n",
       "      <td>0.000000</td>\n",
       "      <td>0.00000</td>\n",
       "      <td>0.000000</td>\n",
       "      <td>0.000000</td>\n",
       "      <td>0.000000</td>\n",
       "    </tr>\n",
       "    <tr>\n",
       "      <th>25%</th>\n",
       "      <td>1250.750000</td>\n",
       "      <td>35.000000</td>\n",
       "      <td>10.000000</td>\n",
       "      <td>39.000000</td>\n",
       "      <td>91911.000000</td>\n",
       "      <td>1.000000</td>\n",
       "      <td>0.700000</td>\n",
       "      <td>1.000000</td>\n",
       "      <td>0.000000</td>\n",
       "      <td>0.000000</td>\n",
       "      <td>0.00000</td>\n",
       "      <td>0.000000</td>\n",
       "      <td>0.000000</td>\n",
       "      <td>0.000000</td>\n",
       "    </tr>\n",
       "    <tr>\n",
       "      <th>50%</th>\n",
       "      <td>2500.500000</td>\n",
       "      <td>45.000000</td>\n",
       "      <td>20.000000</td>\n",
       "      <td>64.000000</td>\n",
       "      <td>93437.000000</td>\n",
       "      <td>2.000000</td>\n",
       "      <td>1.500000</td>\n",
       "      <td>2.000000</td>\n",
       "      <td>0.000000</td>\n",
       "      <td>0.000000</td>\n",
       "      <td>0.00000</td>\n",
       "      <td>1.000000</td>\n",
       "      <td>0.000000</td>\n",
       "      <td>0.000000</td>\n",
       "    </tr>\n",
       "    <tr>\n",
       "      <th>75%</th>\n",
       "      <td>3750.250000</td>\n",
       "      <td>55.000000</td>\n",
       "      <td>30.000000</td>\n",
       "      <td>98.000000</td>\n",
       "      <td>94608.000000</td>\n",
       "      <td>3.000000</td>\n",
       "      <td>2.500000</td>\n",
       "      <td>3.000000</td>\n",
       "      <td>101.000000</td>\n",
       "      <td>0.000000</td>\n",
       "      <td>0.00000</td>\n",
       "      <td>1.000000</td>\n",
       "      <td>1.000000</td>\n",
       "      <td>0.000000</td>\n",
       "    </tr>\n",
       "    <tr>\n",
       "      <th>max</th>\n",
       "      <td>5000.000000</td>\n",
       "      <td>67.000000</td>\n",
       "      <td>43.000000</td>\n",
       "      <td>224.000000</td>\n",
       "      <td>96651.000000</td>\n",
       "      <td>4.000000</td>\n",
       "      <td>10.000000</td>\n",
       "      <td>3.000000</td>\n",
       "      <td>635.000000</td>\n",
       "      <td>1.000000</td>\n",
       "      <td>1.00000</td>\n",
       "      <td>1.000000</td>\n",
       "      <td>1.000000</td>\n",
       "      <td>1.000000</td>\n",
       "    </tr>\n",
       "  </tbody>\n",
       "</table>\n",
       "</div>"
      ],
      "text/plain": [
       "                ID          Age  ...   CreditCard  Personal Loan\n",
       "count  5000.000000  5000.000000  ...  5000.000000    5000.000000\n",
       "mean   2500.500000    45.338400  ...     0.294000       0.096000\n",
       "std    1443.520003    11.463166  ...     0.455637       0.294621\n",
       "min       1.000000    23.000000  ...     0.000000       0.000000\n",
       "25%    1250.750000    35.000000  ...     0.000000       0.000000\n",
       "50%    2500.500000    45.000000  ...     0.000000       0.000000\n",
       "75%    3750.250000    55.000000  ...     1.000000       0.000000\n",
       "max    5000.000000    67.000000  ...     1.000000       1.000000\n",
       "\n",
       "[8 rows x 14 columns]"
      ]
     },
     "execution_count": 9,
     "metadata": {
      "tags": []
     },
     "output_type": "execute_result"
    }
   ],
   "source": [
    "loans.describe()    # It describes the statical summary of the dataset. "
   ]
  },
  {
   "cell_type": "code",
   "execution_count": 10,
   "metadata": {
    "colab": {
     "base_uri": "https://localhost:8080/",
     "height": 34
    },
    "colab_type": "code",
    "id": "1eCce28XiCk1",
    "outputId": "bad073ae-7d2b-42b3-c805-597eeffdc27e"
   },
   "outputs": [
    {
     "data": {
      "text/plain": [
       "(5000, 14)"
      ]
     },
     "execution_count": 10,
     "metadata": {
      "tags": []
     },
     "output_type": "execute_result"
    }
   ],
   "source": [
    "loans.shape       # It gives the dataset shape."
   ]
  },
  {
   "cell_type": "code",
   "execution_count": 11,
   "metadata": {
    "colab": {
     "base_uri": "https://localhost:8080/",
     "height": 272
    },
    "colab_type": "code",
    "id": "zatV0_ZgiHFV",
    "outputId": "9fd9906b-4982-48d2-bcee-c9e452a972ef"
   },
   "outputs": [
    {
     "data": {
      "text/plain": [
       "ID                    0\n",
       "Age                   0\n",
       "Experience            0\n",
       "Income                0\n",
       "ZIP Code              0\n",
       "Family                0\n",
       "CCAvg                 0\n",
       "Education             0\n",
       "Mortgage              0\n",
       "Securities Account    0\n",
       "CD Account            0\n",
       "Online                0\n",
       "CreditCard            0\n",
       "Personal Loan         0\n",
       "dtype: int64"
      ]
     },
     "execution_count": 11,
     "metadata": {
      "tags": []
     },
     "output_type": "execute_result"
    }
   ],
   "source": [
    "loans.isnull().sum()      # It gives count of any null values in data."
   ]
  },
  {
   "cell_type": "code",
   "execution_count": 12,
   "metadata": {
    "colab": {
     "base_uri": "https://localhost:8080/",
     "height": 272
    },
    "colab_type": "code",
    "id": "pXwF_-GOiLKZ",
    "outputId": "81b9f76a-ed8e-4d83-e922-f94755d72e95"
   },
   "outputs": [
    {
     "data": {
      "text/plain": [
       "ID                     0\n",
       "Age                    0\n",
       "Experience            52\n",
       "Income                 0\n",
       "ZIP Code               0\n",
       "Family                 0\n",
       "CCAvg                  0\n",
       "Education              0\n",
       "Mortgage               0\n",
       "Securities Account     0\n",
       "CD Account             0\n",
       "Online                 0\n",
       "CreditCard             0\n",
       "Personal Loan          0\n",
       "dtype: int64"
      ]
     },
     "execution_count": 12,
     "metadata": {
      "tags": []
     },
     "output_type": "execute_result"
    }
   ],
   "source": [
    "loans.where(loans < 0).count()"
   ]
  },
  {
   "cell_type": "markdown",
   "metadata": {
    "colab_type": "text",
    "id": "NhHLQnthikKk"
   },
   "source": [
    "## **Exploratory Data Analysis (EDA)**"
   ]
  },
  {
   "cell_type": "markdown",
   "metadata": {
    "colab_type": "text",
    "id": "dgKjePDFi1hZ"
   },
   "source": [
    "### **Detailed info**"
   ]
  },
  {
   "cell_type": "code",
   "execution_count": 13,
   "metadata": {
    "colab": {
     "base_uri": "https://localhost:8080/",
     "height": 272
    },
    "colab_type": "code",
    "id": "fhyNpFnVjXzc",
    "outputId": "c64c6acb-365a-44b6-ad01-0a9696811e1e"
   },
   "outputs": [
    {
     "data": {
      "text/plain": [
       "ID                    5000\n",
       "Age                     45\n",
       "Experience              47\n",
       "Income                 162\n",
       "ZIP Code               467\n",
       "Family                   4\n",
       "CCAvg                  108\n",
       "Education                3\n",
       "Mortgage               347\n",
       "Securities Account       2\n",
       "CD Account               2\n",
       "Online                   2\n",
       "CreditCard               2\n",
       "Personal Loan            2\n",
       "dtype: int64"
      ]
     },
     "execution_count": 13,
     "metadata": {
      "tags": []
     },
     "output_type": "execute_result"
    }
   ],
   "source": [
    "# Number of Unique in each column.\n",
    "loans.nunique()"
   ]
  },
  {
   "cell_type": "code",
   "execution_count": 14,
   "metadata": {
    "colab": {
     "base_uri": "https://localhost:8080/",
     "height": 34
    },
    "colab_type": "code",
    "id": "B_Hdb_vQjb-a",
    "outputId": "ac7e06bf-b155-4734-ed1d-7a0e9e33ddf0"
   },
   "outputs": [
    {
     "data": {
      "text/plain": [
       "3462"
      ]
     },
     "execution_count": 14,
     "metadata": {
      "tags": []
     },
     "output_type": "execute_result"
    }
   ],
   "source": [
    "# Number of People with Zero Mortgage.\n",
    "# There are 3462 People with zero mortage out of 5000. (It makes skewed)\n",
    "loans[loans['Mortgage'] == 0]['Mortgage'].count()"
   ]
  },
  {
   "cell_type": "code",
   "execution_count": 15,
   "metadata": {
    "colab": {
     "base_uri": "https://localhost:8080/",
     "height": 34
    },
    "colab_type": "code",
    "id": "6uss7ADbjibP",
    "outputId": "9c80d1f7-b0bc-4dee-8bdb-e6b9beb746c7"
   },
   "outputs": [
    {
     "data": {
      "text/plain": [
       "106"
      ]
     },
     "execution_count": 15,
     "metadata": {
      "tags": []
     },
     "output_type": "execute_result"
    }
   ],
   "source": [
    "# Number of People with Zero Credit Card spending per month.\n",
    "# There are 106 people with zero credit card spending per month.\n",
    "(loans.CCAvg==0).sum()"
   ]
  },
  {
   "cell_type": "code",
   "execution_count": 16,
   "metadata": {
    "colab": {
     "base_uri": "https://localhost:8080/",
     "height": 102
    },
    "colab_type": "code",
    "id": "29f88Z5ojmb9",
    "outputId": "d336cdcc-d350-4ac1-c10b-432db155d503"
   },
   "outputs": [
    {
     "data": {
      "text/plain": [
       "1    1472\n",
       "2    1296\n",
       "4    1222\n",
       "3    1010\n",
       "Name: Family, dtype: int64"
      ]
     },
     "execution_count": 16,
     "metadata": {
      "tags": []
     },
     "output_type": "execute_result"
    }
   ],
   "source": [
    "# Value count for all categorial columns.\n",
    "loans.Family.value_counts()"
   ]
  },
  {
   "cell_type": "code",
   "execution_count": 17,
   "metadata": {
    "colab": {
     "base_uri": "https://localhost:8080/",
     "height": 85
    },
    "colab_type": "code",
    "id": "NWvZwnOwkfwq",
    "outputId": "ca0155ca-ee18-442f-ba73-70bb8539d29e"
   },
   "outputs": [
    {
     "data": {
      "text/plain": [
       "1    2096\n",
       "3    1501\n",
       "2    1403\n",
       "Name: Education, dtype: int64"
      ]
     },
     "execution_count": 17,
     "metadata": {
      "tags": []
     },
     "output_type": "execute_result"
    }
   ],
   "source": [
    "loans.Education.value_counts()"
   ]
  },
  {
   "cell_type": "code",
   "execution_count": 18,
   "metadata": {
    "colab": {
     "base_uri": "https://localhost:8080/",
     "height": 68
    },
    "colab_type": "code",
    "id": "ate0zPNWkkt-",
    "outputId": "0c636943-1184-4d06-d2af-fdc685f17994"
   },
   "outputs": [
    {
     "data": {
      "text/plain": [
       "0    4478\n",
       "1     522\n",
       "Name: Securities Account, dtype: int64"
      ]
     },
     "execution_count": 18,
     "metadata": {
      "tags": []
     },
     "output_type": "execute_result"
    }
   ],
   "source": [
    "loans['Securities Account'].value_counts()"
   ]
  },
  {
   "cell_type": "code",
   "execution_count": 19,
   "metadata": {
    "colab": {
     "base_uri": "https://localhost:8080/",
     "height": 68
    },
    "colab_type": "code",
    "id": "L-Q6ROchklS-",
    "outputId": "73a29ead-98f2-4a35-de8b-152a06088216"
   },
   "outputs": [
    {
     "data": {
      "text/plain": [
       "0    4698\n",
       "1     302\n",
       "Name: CD Account, dtype: int64"
      ]
     },
     "execution_count": 19,
     "metadata": {
      "tags": []
     },
     "output_type": "execute_result"
    }
   ],
   "source": [
    "loans['CD Account'].value_counts()"
   ]
  },
  {
   "cell_type": "code",
   "execution_count": 20,
   "metadata": {
    "colab": {
     "base_uri": "https://localhost:8080/",
     "height": 68
    },
    "colab_type": "code",
    "id": "MMDhivcfk6Pf",
    "outputId": "887a0218-3864-472b-dfae-512c2d8faa9d"
   },
   "outputs": [
    {
     "data": {
      "text/plain": [
       "0    3530\n",
       "1    1470\n",
       "Name: CreditCard, dtype: int64"
      ]
     },
     "execution_count": 20,
     "metadata": {
      "tags": []
     },
     "output_type": "execute_result"
    }
   ],
   "source": [
    "loans['CreditCard'].value_counts()"
   ]
  },
  {
   "cell_type": "code",
   "execution_count": 21,
   "metadata": {
    "colab": {
     "base_uri": "https://localhost:8080/",
     "height": 68
    },
    "colab_type": "code",
    "id": "X1ReU-8bkkQZ",
    "outputId": "4bb08aa5-75a9-410b-f79e-9b1d01418c3d"
   },
   "outputs": [
    {
     "data": {
      "text/plain": [
       "1    2984\n",
       "0    2016\n",
       "Name: Online, dtype: int64"
      ]
     },
     "execution_count": 21,
     "metadata": {
      "tags": []
     },
     "output_type": "execute_result"
    }
   ],
   "source": [
    "loans.Online.value_counts()"
   ]
  },
  {
   "cell_type": "code",
   "execution_count": 22,
   "metadata": {
    "colab": {
     "base_uri": "https://localhost:8080/",
     "height": 483
    },
    "colab_type": "code",
    "id": "Sc6uZ3ldUP64",
    "outputId": "49ed5e41-3ed1-44d2-c921-a67ba01d42b6"
   },
   "outputs": [
    {
     "data": {
      "text/html": [
       "<div>\n",
       "<style scoped>\n",
       "    .dataframe tbody tr th:only-of-type {\n",
       "        vertical-align: middle;\n",
       "    }\n",
       "\n",
       "    .dataframe tbody tr th {\n",
       "        vertical-align: top;\n",
       "    }\n",
       "\n",
       "    .dataframe thead th {\n",
       "        text-align: right;\n",
       "    }\n",
       "</style>\n",
       "<table border=\"1\" class=\"dataframe\">\n",
       "  <thead>\n",
       "    <tr style=\"text-align: right;\">\n",
       "      <th></th>\n",
       "      <th>dataFeatures</th>\n",
       "      <th>dataType</th>\n",
       "      <th>null</th>\n",
       "      <th>nullPct</th>\n",
       "      <th>unique</th>\n",
       "      <th>uniqueSample</th>\n",
       "    </tr>\n",
       "  </thead>\n",
       "  <tbody>\n",
       "    <tr>\n",
       "      <th>0</th>\n",
       "      <td>ID</td>\n",
       "      <td>int64</td>\n",
       "      <td>0</td>\n",
       "      <td>0.0</td>\n",
       "      <td>5000</td>\n",
       "      <td>[799, 1492, 4466, 40, 1690]</td>\n",
       "    </tr>\n",
       "    <tr>\n",
       "      <th>1</th>\n",
       "      <td>Age</td>\n",
       "      <td>int64</td>\n",
       "      <td>0</td>\n",
       "      <td>0.0</td>\n",
       "      <td>45</td>\n",
       "      <td>[46, 43, 37, 55, 32]</td>\n",
       "    </tr>\n",
       "    <tr>\n",
       "      <th>2</th>\n",
       "      <td>Experience</td>\n",
       "      <td>int64</td>\n",
       "      <td>0</td>\n",
       "      <td>0.0</td>\n",
       "      <td>47</td>\n",
       "      <td>[15, 30, 33, 28, 11]</td>\n",
       "    </tr>\n",
       "    <tr>\n",
       "      <th>3</th>\n",
       "      <td>Income</td>\n",
       "      <td>int64</td>\n",
       "      <td>0</td>\n",
       "      <td>0.0</td>\n",
       "      <td>162</td>\n",
       "      <td>[24, 73, 42, 158, 41]</td>\n",
       "    </tr>\n",
       "    <tr>\n",
       "      <th>4</th>\n",
       "      <td>ZIP Code</td>\n",
       "      <td>int64</td>\n",
       "      <td>0</td>\n",
       "      <td>0.0</td>\n",
       "      <td>467</td>\n",
       "      <td>[94104, 93003, 93101, 95134, 92093]</td>\n",
       "    </tr>\n",
       "    <tr>\n",
       "      <th>5</th>\n",
       "      <td>Family</td>\n",
       "      <td>int64</td>\n",
       "      <td>0</td>\n",
       "      <td>0.0</td>\n",
       "      <td>4</td>\n",
       "      <td>[2, 3, 4]</td>\n",
       "    </tr>\n",
       "    <tr>\n",
       "      <th>6</th>\n",
       "      <td>CCAvg</td>\n",
       "      <td>float64</td>\n",
       "      <td>0</td>\n",
       "      <td>0.0</td>\n",
       "      <td>108</td>\n",
       "      <td>[1.5, 0.4, 2.4, 0.5, 1.9]</td>\n",
       "    </tr>\n",
       "    <tr>\n",
       "      <th>7</th>\n",
       "      <td>Education</td>\n",
       "      <td>int64</td>\n",
       "      <td>0</td>\n",
       "      <td>0.0</td>\n",
       "      <td>3</td>\n",
       "      <td>[1, 2, 3]</td>\n",
       "    </tr>\n",
       "    <tr>\n",
       "      <th>8</th>\n",
       "      <td>Mortgage</td>\n",
       "      <td>int64</td>\n",
       "      <td>0</td>\n",
       "      <td>0.0</td>\n",
       "      <td>347</td>\n",
       "      <td>[157, 0, 224]</td>\n",
       "    </tr>\n",
       "    <tr>\n",
       "      <th>9</th>\n",
       "      <td>Securities Account</td>\n",
       "      <td>int64</td>\n",
       "      <td>0</td>\n",
       "      <td>0.0</td>\n",
       "      <td>2</td>\n",
       "      <td>[0]</td>\n",
       "    </tr>\n",
       "    <tr>\n",
       "      <th>10</th>\n",
       "      <td>CD Account</td>\n",
       "      <td>int64</td>\n",
       "      <td>0</td>\n",
       "      <td>0.0</td>\n",
       "      <td>2</td>\n",
       "      <td>[0]</td>\n",
       "    </tr>\n",
       "    <tr>\n",
       "      <th>11</th>\n",
       "      <td>Online</td>\n",
       "      <td>int64</td>\n",
       "      <td>0</td>\n",
       "      <td>0.0</td>\n",
       "      <td>2</td>\n",
       "      <td>[1, 0]</td>\n",
       "    </tr>\n",
       "    <tr>\n",
       "      <th>12</th>\n",
       "      <td>CreditCard</td>\n",
       "      <td>int64</td>\n",
       "      <td>0</td>\n",
       "      <td>0.0</td>\n",
       "      <td>2</td>\n",
       "      <td>[0]</td>\n",
       "    </tr>\n",
       "    <tr>\n",
       "      <th>13</th>\n",
       "      <td>Personal Loan</td>\n",
       "      <td>int64</td>\n",
       "      <td>0</td>\n",
       "      <td>0.0</td>\n",
       "      <td>2</td>\n",
       "      <td>[0]</td>\n",
       "    </tr>\n",
       "  </tbody>\n",
       "</table>\n",
       "</div>"
      ],
      "text/plain": [
       "          dataFeatures dataType  ...  unique                         uniqueSample\n",
       "0                   ID    int64  ...    5000          [799, 1492, 4466, 40, 1690]\n",
       "1                  Age    int64  ...      45                 [46, 43, 37, 55, 32]\n",
       "2           Experience    int64  ...      47                 [15, 30, 33, 28, 11]\n",
       "3               Income    int64  ...     162                [24, 73, 42, 158, 41]\n",
       "4             ZIP Code    int64  ...     467  [94104, 93003, 93101, 95134, 92093]\n",
       "5               Family    int64  ...       4                            [2, 3, 4]\n",
       "6                CCAvg  float64  ...     108            [1.5, 0.4, 2.4, 0.5, 1.9]\n",
       "7            Education    int64  ...       3                            [1, 2, 3]\n",
       "8             Mortgage    int64  ...     347                        [157, 0, 224]\n",
       "9   Securities Account    int64  ...       2                                  [0]\n",
       "10          CD Account    int64  ...       2                                  [0]\n",
       "11              Online    int64  ...       2                               [1, 0]\n",
       "12          CreditCard    int64  ...       2                                  [0]\n",
       "13       Personal Loan    int64  ...       2                                  [0]\n",
       "\n",
       "[14 rows x 6 columns]"
      ]
     },
     "execution_count": 22,
     "metadata": {
      "tags": []
     },
     "output_type": "execute_result"
    }
   ],
   "source": [
    "listItem = []\n",
    "for col in loans.columns :\n",
    "    listItem.append([col,loans[col].dtype,\n",
    "                     loans[col].isna().sum(),\n",
    "                     round((loans[col].isna().sum()/len(loans[col])) * 100,2),\n",
    "                    loans[col].nunique(),\n",
    "                     list(loans[col].sample(5).drop_duplicates().values)]);\n",
    "\n",
    "dfDesc = pd.DataFrame(columns=['dataFeatures', 'dataType', 'null', 'nullPct', 'unique', 'uniqueSample'],\n",
    "                     data=listItem)\n",
    "dfDesc"
   ]
  },
  {
   "cell_type": "markdown",
   "metadata": {
    "colab_type": "text",
    "id": "ZkvGuhhdlMJ_"
   },
   "source": [
    "### **Univariate Analysis**"
   ]
  },
  {
   "cell_type": "code",
   "execution_count": 23,
   "metadata": {
    "colab": {
     "base_uri": "https://localhost:8080/",
     "height": 296
    },
    "colab_type": "code",
    "id": "88A-LZ9XlLgH",
    "outputId": "3ff5c35e-12a7-4518-8814-4c2633fc2be0"
   },
   "outputs": [
    {
     "data": {
      "text/plain": [
       "<matplotlib.axes._subplots.AxesSubplot at 0x7fefa1bcfe10>"
      ]
     },
     "execution_count": 23,
     "metadata": {
      "tags": []
     },
     "output_type": "execute_result"
    },
    {
     "data": {
      "image/png": "[encoded data removed]",
      "text/plain": [
       "<Figure size 432x288 with 1 Axes>"
      ]
     },
     "metadata": {
      "needs_background": "light",
      "tags": []
     },
     "output_type": "display_data"
    }
   ],
   "source": [
    "# Value counts of all categorical columns.\n",
    "# It seems to have symmetric distribution.\n",
    "sns.distplot(loans.Age)"
   ]
  },
  {
   "cell_type": "code",
   "execution_count": 24,
   "metadata": {
    "colab": {
     "base_uri": "https://localhost:8080/",
     "height": 298
    },
    "colab_type": "code",
    "id": "Rvv8zIzNlVxu",
    "outputId": "e74e7a94-f098-4bc9-aa16-1469487fcc4a"
   },
   "outputs": [
    {
     "data": {
      "text/plain": [
       "<matplotlib.axes._subplots.AxesSubplot at 0x7fefa1a84320>"
      ]
     },
     "execution_count": 24,
     "metadata": {
      "tags": []
     },
     "output_type": "execute_result"
    },
    {
     "data": {
      "image/png": "[encoded data removed]",
      "text/plain": [
       "<Figure size 432x288 with 1 Axes>"
      ]
     },
     "metadata": {
      "needs_background": "light",
      "tags": []
     },
     "output_type": "display_data"
    }
   ],
   "source": [
    "# Income is more skewed distribution\n",
    "sns.distplot(loans.Income)"
   ]
  },
  {
   "cell_type": "code",
   "execution_count": 25,
   "metadata": {
    "colab": {
     "base_uri": "https://localhost:8080/",
     "height": 296
    },
    "colab_type": "code",
    "id": "b9QE2v2llcxP",
    "outputId": "8f6a48b2-299d-4d98-9b24-217031d7dec8"
   },
   "outputs": [
    {
     "data": {
      "text/plain": [
       "<matplotlib.axes._subplots.AxesSubplot at 0x7fefa026ff98>"
      ]
     },
     "execution_count": 25,
     "metadata": {
      "tags": []
     },
     "output_type": "execute_result"
    },
    {
     "data": {
      "image/png": "[encoded data removed]",
      "text/plain": [
       "<Figure size 432x288 with 1 Axes>"
      ]
     },
     "metadata": {
      "needs_background": "light",
      "tags": []
     },
     "output_type": "display_data"
    }
   ],
   "source": [
    "# Credit average is right skewed distribution.\n",
    "sns.distplot(loans.CCAvg)"
   ]
  },
  {
   "cell_type": "code",
   "execution_count": 26,
   "metadata": {
    "colab": {
     "base_uri": "https://localhost:8080/",
     "height": 296
    },
    "colab_type": "code",
    "id": "H-iOnEIjlg5a",
    "outputId": "cc4e7a38-401f-40b0-b0e0-e4f8531b6033"
   },
   "outputs": [
    {
     "data": {
      "text/plain": [
       "<matplotlib.axes._subplots.AxesSubplot at 0x7fefa02a5208>"
      ]
     },
     "execution_count": 26,
     "metadata": {
      "tags": []
     },
     "output_type": "execute_result"
    },
    {
     "data": {
      "image/png": "[encoded data removed]",
      "text/plain": [
       "<Figure size 432x288 with 1 Axes>"
      ]
     },
     "metadata": {
      "needs_background": "light",
      "tags": []
     },
     "output_type": "display_data"
    }
   ],
   "source": [
    "# Mortgage is highly skewed.\n",
    "sns.distplot(loans.Mortgage)"
   ]
  },
  {
   "cell_type": "markdown",
   "metadata": {
    "colab_type": "text",
    "id": "hvWbp76hlpFC"
   },
   "source": [
    "### **Multivarient Analysis**\n"
   ]
  },
  {
   "cell_type": "markdown",
   "metadata": {
    "colab_type": "text",
    "id": "F0lvM7XN9MCh"
   },
   "source": [
    "**Influence of income and education on personal loan**"
   ]
  },
  {
   "cell_type": "code",
   "execution_count": 27,
   "metadata": {
    "colab": {
     "base_uri": "https://localhost:8080/",
     "height": 296
    },
    "colab_type": "code",
    "id": "la220I8GluQp",
    "outputId": "314d3f44-3dd3-4011-f380-c30e25de57fa"
   },
   "outputs": [
    {
     "data": {
      "text/plain": [
       "<matplotlib.axes._subplots.AxesSubplot at 0x7fefa1bbb0f0>"
      ]
     },
     "execution_count": 27,
     "metadata": {
      "tags": []
     },
     "output_type": "execute_result"
    },
    {
     "data": {
      "image/png": "[encoded data removed]",
      "text/plain": [
       "<Figure size 432x288 with 1 Axes>"
      ]
     },
     "metadata": {
      "needs_background": "light",
      "tags": []
     },
     "output_type": "display_data"
    }
   ],
   "source": [
    "sns.boxplot(x='Education',y='Income',hue='Personal Loan',data=loans,color = 'Red')"
   ]
  },
  {
   "cell_type": "markdown",
   "metadata": {
    "colab_type": "text",
    "id": "d-lR9BfclvjC"
   },
   "source": [
    "**Observation :** It seems the customers whose education level is 1 is having more income. However customers who has taken the personal loan have the same income levels"
   ]
  },
  {
   "cell_type": "code",
   "execution_count": 28,
   "metadata": {
    "colab": {
     "base_uri": "https://localhost:8080/",
     "height": 296
    },
    "colab_type": "code",
    "id": "84S7phkSlyGM",
    "outputId": "15e7369c-c703-4f92-82f5-c465adfa49be"
   },
   "outputs": [
    {
     "data": {
      "text/plain": [
       "<matplotlib.axes._subplots.AxesSubplot at 0x7fefa1e02898>"
      ]
     },
     "execution_count": 28,
     "metadata": {
      "tags": []
     },
     "output_type": "execute_result"
    },
    {
     "data": {
      "image/png": "[encoded data removed]",
      "text/plain": [
       "<Figure size 432x288 with 1 Axes>"
      ]
     },
     "metadata": {
      "needs_background": "light",
      "tags": []
     },
     "output_type": "display_data"
    }
   ],
   "source": [
    "sns.boxplot(x=\"Education\", y='Mortgage', hue=\"Personal Loan\", data=loans,color='Blue')"
   ]
  },
  {
   "cell_type": "markdown",
   "metadata": {
    "colab_type": "text",
    "id": "uNU6Vbeyl7Pf"
   },
   "source": [
    "**Observation :** From the above chart it seems that customer who do not have personal loan and customer who has personal loan have high mortgage"
   ]
  },
  {
   "cell_type": "code",
   "execution_count": 29,
   "metadata": {
    "colab": {
     "base_uri": "https://localhost:8080/",
     "height": 296
    },
    "colab_type": "code",
    "id": "xyjmHelVl-uo",
    "outputId": "21955324-c8ae-4592-adad-a486cec196cf"
   },
   "outputs": [
    {
     "data": {
      "text/plain": [
       "<matplotlib.axes._subplots.AxesSubplot at 0x7fefa1dcc400>"
      ]
     },
     "execution_count": 29,
     "metadata": {
      "tags": []
     },
     "output_type": "execute_result"
    },
    {
     "data": {
      "image/png": "[encoded data removed]",
      "text/plain": [
       "<Figure size 432x288 with 1 Axes>"
      ]
     },
     "metadata": {
      "needs_background": "light",
      "tags": []
     },
     "output_type": "display_data"
    }
   ],
   "source": [
    "sns.countplot(x=\"Securities Account\", data=loans,hue=\"Personal Loan\")"
   ]
  },
  {
   "cell_type": "markdown",
   "metadata": {
    "colab_type": "text",
    "id": "UHa-vbLjmHI5"
   },
   "source": [
    "**Observation :** Majority of customers who does not have loan have securities account"
   ]
  },
  {
   "cell_type": "code",
   "execution_count": 30,
   "metadata": {
    "colab": {
     "base_uri": "https://localhost:8080/",
     "height": 296
    },
    "colab_type": "code",
    "id": "vE-sA0iqmL0s",
    "outputId": "b3aead78-2fb6-4006-817e-fa5575ee3607"
   },
   "outputs": [
    {
     "data": {
      "text/plain": [
       "<matplotlib.axes._subplots.AxesSubplot at 0x7fefa1c96860>"
      ]
     },
     "execution_count": 30,
     "metadata": {
      "tags": []
     },
     "output_type": "execute_result"
    },
    {
     "data": {
      "image/png": "[encoded data removed]",
      "text/plain": [
       "<Figure size 432x288 with 1 Axes>"
      ]
     },
     "metadata": {
      "needs_background": "light",
      "tags": []
     },
     "output_type": "display_data"
    }
   ],
   "source": [
    "sns.countplot(x='Family',data=loans,hue='Personal Loan',palette='Set2')"
   ]
  },
  {
   "cell_type": "markdown",
   "metadata": {
    "colab_type": "text",
    "id": "6IK4f84RmTTS"
   },
   "source": [
    "**Observation:** Family size does not have any impact in personal loan. But it seems families with size of 3 are more likely to take loan. When considering future campaign this might be good association."
   ]
  },
  {
   "cell_type": "code",
   "execution_count": 31,
   "metadata": {
    "colab": {
     "base_uri": "https://localhost:8080/",
     "height": 296
    },
    "colab_type": "code",
    "id": "36P5nasbmUZb",
    "outputId": "05b413fd-2713-4c70-af51-35e0baf66545"
   },
   "outputs": [
    {
     "data": {
      "text/plain": [
       "<matplotlib.axes._subplots.AxesSubplot at 0x7fefa015c6a0>"
      ]
     },
     "execution_count": 31,
     "metadata": {
      "tags": []
     },
     "output_type": "execute_result"
    },
    {
     "data": {
      "image/png": "[encoded data removed]",
      "text/plain": [
       "<Figure size 432x288 with 1 Axes>"
      ]
     },
     "metadata": {
      "needs_background": "light",
      "tags": []
     },
     "output_type": "display_data"
    }
   ],
   "source": [
    "sns.countplot(x='CD Account',data=loans,hue='Personal Loan',palette = 'Set3') "
   ]
  },
  {
   "cell_type": "markdown",
   "metadata": {
    "colab_type": "text",
    "id": "vXnfbnZ9musH"
   },
   "source": [
    "**Observation:** Customers who does not have CD account , does not have loan as well. This seems to be majority. But almost all customers who has CD account has loan as well"
   ]
  },
  {
   "cell_type": "code",
   "execution_count": 32,
   "metadata": {
    "colab": {
     "base_uri": "https://localhost:8080/",
     "height": 296
    },
    "colab_type": "code",
    "id": "lsFpfLStmxcW",
    "outputId": "08f81a21-0814-4eb6-c3a8-66903eaab913"
   },
   "outputs": [
    {
     "data": {
      "text/plain": [
       "<matplotlib.axes._subplots.AxesSubplot at 0x7fefa00bbcc0>"
      ]
     },
     "execution_count": 32,
     "metadata": {
      "tags": []
     },
     "output_type": "execute_result"
    },
    {
     "data": {
      "image/png": "[encoded data removed]",
      "text/plain": [
       "<Figure size 432x288 with 1 Axes>"
      ]
     },
     "metadata": {
      "needs_background": "light",
      "tags": []
     },
     "output_type": "display_data"
    }
   ],
   "source": [
    "sns.distplot( loans[loans['Personal Loan'] == 0]['CCAvg'], color = 'r')\n",
    "sns.distplot( loans[loans['Personal Loan'] == 1]['CCAvg'], color = 'g')"
   ]
  },
  {
   "cell_type": "code",
   "execution_count": 34,
   "metadata": {
    "colab": {
     "base_uri": "https://localhost:8080/",
     "height": 51
    },
    "colab_type": "code",
    "id": "APSyrkn7m8LB",
    "outputId": "b31a84a0-4710-4e12-a8f2-06d01f32ea31"
   },
   "outputs": [
    {
     "name": "stdout",
     "output_type": "stream",
     "text": [
      "Credit card spending of Non-Loan customers:  1400.0\n",
      "Credit card spending of Loan customers    :  3800.0\n"
     ]
    }
   ],
   "source": [
    "print('Credit card spending of Non-Loan customers: ',loans[loans['Personal Loan'] == 0]['CCAvg'].median()*1000)\n",
    "print('Credit card spending of Loan customers    : ', loans[loans['Personal Loan'] == 1]['CCAvg'].median()*1000)"
   ]
  },
  {
   "cell_type": "markdown",
   "metadata": {
    "colab_type": "text",
    "id": "Q1_5zO2bm_T7"
   },
   "source": [
    "\n",
    "**Observation:** The graph show persons who have personal loan have a higher credit card average. Average credit card spending with a median of 3800 dollar indicates a higher probability of personal loan. Lower credit card spending with a median of 1400 dollars is less likely to take a loan. This could be useful information."
   ]
  },
  {
   "cell_type": "code",
   "execution_count": 35,
   "metadata": {
    "colab": {
     "base_uri": "https://localhost:8080/",
     "height": 296
    },
    "colab_type": "code",
    "id": "66CK1MRPnBll",
    "outputId": "6dda5aa9-be03-4230-c7c6-04c16f15fb20"
   },
   "outputs": [
    {
     "data": {
      "text/plain": [
       "Text(0, 0.5, 'Age')"
      ]
     },
     "execution_count": 35,
     "metadata": {
      "tags": []
     },
     "output_type": "execute_result"
    },
    {
     "data": {
      "image/png": "[encoded data removed]",
      "text/plain": [
       "<Figure size 432x288 with 1 Axes>"
      ]
     },
     "metadata": {
      "needs_background": "light",
      "tags": []
     },
     "output_type": "display_data"
    }
   ],
   "source": [
    "fig, ax = plt.subplots()\n",
    "colors = {1:'red',2:'yellow',3:'green'}\n",
    "ax.scatter(loans['Experience'],loans['Age'],c=loans['Education'].apply(lambda x:colors[x]))\n",
    "plt.xlabel('Experience')\n",
    "plt.ylabel('Age')"
   ]
  },
  {
   "cell_type": "markdown",
   "metadata": {
    "colab_type": "text",
    "id": "cTMZxqfpnKbI"
   },
   "source": [
    "**Observation**: The above plot show with experience and age have a positive correlation. As experience increase age also increases. Also the colors show the education level. There is gap in the mid forties of age and also more people in the under graduate level"
   ]
  },
  {
   "cell_type": "markdown",
   "metadata": {
    "colab_type": "text",
    "id": "FH5KIhjMncZt"
   },
   "source": [
    "## **Data Cleaning**\n"
   ]
  },
  {
   "cell_type": "markdown",
   "metadata": {
    "colab_type": "text",
    "id": "LqYvEZ5DngBO"
   },
   "source": [
    "### **Missing value visualization**"
   ]
  },
  {
   "cell_type": "code",
   "execution_count": 36,
   "metadata": {
    "colab": {
     "base_uri": "https://localhost:8080/",
     "height": 365
    },
    "colab_type": "code",
    "id": "gphtQ_cDUTZH",
    "outputId": "cb70f1d0-503c-48ec-94ee-a12bc660f673"
   },
   "outputs": [
    {
     "data": {
      "text/plain": [
       "<matplotlib.axes._subplots.AxesSubplot at 0x7fef9ffc6f98>"
      ]
     },
     "execution_count": 36,
     "metadata": {
      "tags": []
     },
     "output_type": "execute_result"
    },
    {
     "data": {
      "image/png": "[encoded data removed]",
      "text/plain": [
       "<Figure size 432x288 with 1 Axes>"
      ]
     },
     "metadata": {
      "needs_background": "light",
      "tags": []
     },
     "output_type": "display_data"
    }
   ],
   "source": [
    "sns.heatmap(loans.isna(),yticklabels=False,cbar=False,cmap='viridis')"
   ]
  },
  {
   "cell_type": "markdown",
   "metadata": {
    "colab_type": "text",
    "id": "_m_3m6ldnokv"
   },
   "source": [
    "### **Irregular value analysis**"
   ]
  },
  {
   "cell_type": "code",
   "execution_count": 37,
   "metadata": {
    "colab": {
     "base_uri": "https://localhost:8080/",
     "height": 483
    },
    "colab_type": "code",
    "id": "cA6hYdCuUWVb",
    "outputId": "a3711c4a-0539-4bc7-f63d-5463bbdb7386"
   },
   "outputs": [
    {
     "data": {
      "text/html": [
       "<div>\n",
       "<style scoped>\n",
       "    .dataframe tbody tr th:only-of-type {\n",
       "        vertical-align: middle;\n",
       "    }\n",
       "\n",
       "    .dataframe tbody tr th {\n",
       "        vertical-align: top;\n",
       "    }\n",
       "\n",
       "    .dataframe thead th {\n",
       "        text-align: right;\n",
       "    }\n",
       "</style>\n",
       "<table border=\"1\" class=\"dataframe\">\n",
       "  <thead>\n",
       "    <tr style=\"text-align: right;\">\n",
       "      <th></th>\n",
       "      <th>count</th>\n",
       "      <th>mean</th>\n",
       "      <th>std</th>\n",
       "      <th>min</th>\n",
       "      <th>25%</th>\n",
       "      <th>50%</th>\n",
       "      <th>75%</th>\n",
       "      <th>max</th>\n",
       "    </tr>\n",
       "  </thead>\n",
       "  <tbody>\n",
       "    <tr>\n",
       "      <th>ID</th>\n",
       "      <td>5000.0</td>\n",
       "      <td>2500.500000</td>\n",
       "      <td>1443.520003</td>\n",
       "      <td>1.0</td>\n",
       "      <td>1250.75</td>\n",
       "      <td>2500.5</td>\n",
       "      <td>3750.25</td>\n",
       "      <td>5000.0</td>\n",
       "    </tr>\n",
       "    <tr>\n",
       "      <th>Age</th>\n",
       "      <td>5000.0</td>\n",
       "      <td>45.338400</td>\n",
       "      <td>11.463166</td>\n",
       "      <td>23.0</td>\n",
       "      <td>35.00</td>\n",
       "      <td>45.0</td>\n",
       "      <td>55.00</td>\n",
       "      <td>67.0</td>\n",
       "    </tr>\n",
       "    <tr>\n",
       "      <th>Experience</th>\n",
       "      <td>5000.0</td>\n",
       "      <td>20.104600</td>\n",
       "      <td>11.467954</td>\n",
       "      <td>-3.0</td>\n",
       "      <td>10.00</td>\n",
       "      <td>20.0</td>\n",
       "      <td>30.00</td>\n",
       "      <td>43.0</td>\n",
       "    </tr>\n",
       "    <tr>\n",
       "      <th>Income</th>\n",
       "      <td>5000.0</td>\n",
       "      <td>73.774200</td>\n",
       "      <td>46.033729</td>\n",
       "      <td>8.0</td>\n",
       "      <td>39.00</td>\n",
       "      <td>64.0</td>\n",
       "      <td>98.00</td>\n",
       "      <td>224.0</td>\n",
       "    </tr>\n",
       "    <tr>\n",
       "      <th>ZIP Code</th>\n",
       "      <td>5000.0</td>\n",
       "      <td>93152.503000</td>\n",
       "      <td>2121.852197</td>\n",
       "      <td>9307.0</td>\n",
       "      <td>91911.00</td>\n",
       "      <td>93437.0</td>\n",
       "      <td>94608.00</td>\n",
       "      <td>96651.0</td>\n",
       "    </tr>\n",
       "    <tr>\n",
       "      <th>Family</th>\n",
       "      <td>5000.0</td>\n",
       "      <td>2.396400</td>\n",
       "      <td>1.147663</td>\n",
       "      <td>1.0</td>\n",
       "      <td>1.00</td>\n",
       "      <td>2.0</td>\n",
       "      <td>3.00</td>\n",
       "      <td>4.0</td>\n",
       "    </tr>\n",
       "    <tr>\n",
       "      <th>CCAvg</th>\n",
       "      <td>5000.0</td>\n",
       "      <td>1.937913</td>\n",
       "      <td>1.747666</td>\n",
       "      <td>0.0</td>\n",
       "      <td>0.70</td>\n",
       "      <td>1.5</td>\n",
       "      <td>2.50</td>\n",
       "      <td>10.0</td>\n",
       "    </tr>\n",
       "    <tr>\n",
       "      <th>Education</th>\n",
       "      <td>5000.0</td>\n",
       "      <td>1.881000</td>\n",
       "      <td>0.839869</td>\n",
       "      <td>1.0</td>\n",
       "      <td>1.00</td>\n",
       "      <td>2.0</td>\n",
       "      <td>3.00</td>\n",
       "      <td>3.0</td>\n",
       "    </tr>\n",
       "    <tr>\n",
       "      <th>Mortgage</th>\n",
       "      <td>5000.0</td>\n",
       "      <td>56.498800</td>\n",
       "      <td>101.713802</td>\n",
       "      <td>0.0</td>\n",
       "      <td>0.00</td>\n",
       "      <td>0.0</td>\n",
       "      <td>101.00</td>\n",
       "      <td>635.0</td>\n",
       "    </tr>\n",
       "    <tr>\n",
       "      <th>Securities Account</th>\n",
       "      <td>5000.0</td>\n",
       "      <td>0.104400</td>\n",
       "      <td>0.305809</td>\n",
       "      <td>0.0</td>\n",
       "      <td>0.00</td>\n",
       "      <td>0.0</td>\n",
       "      <td>0.00</td>\n",
       "      <td>1.0</td>\n",
       "    </tr>\n",
       "    <tr>\n",
       "      <th>CD Account</th>\n",
       "      <td>5000.0</td>\n",
       "      <td>0.060400</td>\n",
       "      <td>0.238250</td>\n",
       "      <td>0.0</td>\n",
       "      <td>0.00</td>\n",
       "      <td>0.0</td>\n",
       "      <td>0.00</td>\n",
       "      <td>1.0</td>\n",
       "    </tr>\n",
       "    <tr>\n",
       "      <th>Online</th>\n",
       "      <td>5000.0</td>\n",
       "      <td>0.596800</td>\n",
       "      <td>0.490589</td>\n",
       "      <td>0.0</td>\n",
       "      <td>0.00</td>\n",
       "      <td>1.0</td>\n",
       "      <td>1.00</td>\n",
       "      <td>1.0</td>\n",
       "    </tr>\n",
       "    <tr>\n",
       "      <th>CreditCard</th>\n",
       "      <td>5000.0</td>\n",
       "      <td>0.294000</td>\n",
       "      <td>0.455637</td>\n",
       "      <td>0.0</td>\n",
       "      <td>0.00</td>\n",
       "      <td>0.0</td>\n",
       "      <td>1.00</td>\n",
       "      <td>1.0</td>\n",
       "    </tr>\n",
       "    <tr>\n",
       "      <th>Personal Loan</th>\n",
       "      <td>5000.0</td>\n",
       "      <td>0.096000</td>\n",
       "      <td>0.294621</td>\n",
       "      <td>0.0</td>\n",
       "      <td>0.00</td>\n",
       "      <td>0.0</td>\n",
       "      <td>0.00</td>\n",
       "      <td>1.0</td>\n",
       "    </tr>\n",
       "  </tbody>\n",
       "</table>\n",
       "</div>"
      ],
      "text/plain": [
       "                     count          mean  ...       75%      max\n",
       "ID                  5000.0   2500.500000  ...   3750.25   5000.0\n",
       "Age                 5000.0     45.338400  ...     55.00     67.0\n",
       "Experience          5000.0     20.104600  ...     30.00     43.0\n",
       "Income              5000.0     73.774200  ...     98.00    224.0\n",
       "ZIP Code            5000.0  93152.503000  ...  94608.00  96651.0\n",
       "Family              5000.0      2.396400  ...      3.00      4.0\n",
       "CCAvg               5000.0      1.937913  ...      2.50     10.0\n",
       "Education           5000.0      1.881000  ...      3.00      3.0\n",
       "Mortgage            5000.0     56.498800  ...    101.00    635.0\n",
       "Securities Account  5000.0      0.104400  ...      0.00      1.0\n",
       "CD Account          5000.0      0.060400  ...      0.00      1.0\n",
       "Online              5000.0      0.596800  ...      1.00      1.0\n",
       "CreditCard          5000.0      0.294000  ...      1.00      1.0\n",
       "Personal Loan       5000.0      0.096000  ...      0.00      1.0\n",
       "\n",
       "[14 rows x 8 columns]"
      ]
     },
     "execution_count": 37,
     "metadata": {
      "tags": []
     },
     "output_type": "execute_result"
    }
   ],
   "source": [
    "loans.describe().transpose()\n"
   ]
  },
  {
   "cell_type": "markdown",
   "metadata": {
    "colab_type": "text",
    "id": "9_K7rXjenubo"
   },
   "source": [
    "**Irregular value visualization**"
   ]
  },
  {
   "cell_type": "code",
   "execution_count": 38,
   "metadata": {
    "colab": {},
    "colab_type": "code",
    "id": "UovhR_FGUYnf"
   },
   "outputs": [],
   "source": [
    "outvis = loans.copy()\n",
    "def fungsi(x):\n",
    "    if x<0:\n",
    "        return np.NaN\n",
    "    else:\n",
    "        return x\n",
    "    \n",
    "outvis[\"Experience\"] = outvis[\"Experience\"].apply(fungsi)"
   ]
  },
  {
   "cell_type": "code",
   "execution_count": 39,
   "metadata": {
    "colab": {
     "base_uri": "https://localhost:8080/",
     "height": 365
    },
    "colab_type": "code",
    "id": "Slyu6p5TUbj6",
    "outputId": "fb65e069-5a4b-4723-a9b6-d95787fbd110"
   },
   "outputs": [
    {
     "data": {
      "text/plain": [
       "<matplotlib.axes._subplots.AxesSubplot at 0x7fef9d5d0208>"
      ]
     },
     "execution_count": 39,
     "metadata": {
      "tags": []
     },
     "output_type": "execute_result"
    },
    {
     "data": {
      "image/png": "[encoded data removed]",
      "text/plain": [
       "<Figure size 432x288 with 1 Axes>"
      ]
     },
     "metadata": {
      "needs_background": "light",
      "tags": []
     },
     "output_type": "display_data"
    }
   ],
   "source": [
    "sns.heatmap(outvis.isnull(),yticklabels=False,cbar=False,cmap='viridis')"
   ]
  },
  {
   "cell_type": "markdown",
   "metadata": {
    "colab_type": "text",
    "id": "ZPjoSHQqo7KX"
   },
   "source": [
    "**2nd Irregular value analysis**"
   ]
  },
  {
   "cell_type": "code",
   "execution_count": 40,
   "metadata": {
    "colab": {
     "base_uri": "https://localhost:8080/",
     "height": 173
    },
    "colab_type": "code",
    "id": "_Knab1uxUeMg",
    "outputId": "e60a309a-5596-4cba-e7af-dd9b028e2e6d"
   },
   "outputs": [
    {
     "data": {
      "text/html": [
       "<div>\n",
       "<style scoped>\n",
       "    .dataframe tbody tr th:only-of-type {\n",
       "        vertical-align: middle;\n",
       "    }\n",
       "\n",
       "    .dataframe tbody tr th {\n",
       "        vertical-align: top;\n",
       "    }\n",
       "\n",
       "    .dataframe thead th {\n",
       "        text-align: right;\n",
       "    }\n",
       "</style>\n",
       "<table border=\"1\" class=\"dataframe\">\n",
       "  <thead>\n",
       "    <tr style=\"text-align: right;\">\n",
       "      <th></th>\n",
       "      <th>Experience</th>\n",
       "    </tr>\n",
       "    <tr>\n",
       "      <th>Education</th>\n",
       "      <th></th>\n",
       "    </tr>\n",
       "  </thead>\n",
       "  <tbody>\n",
       "    <tr>\n",
       "      <th>1</th>\n",
       "      <td>20.065363</td>\n",
       "    </tr>\n",
       "    <tr>\n",
       "      <th>2</th>\n",
       "      <td>19.770492</td>\n",
       "    </tr>\n",
       "    <tr>\n",
       "      <th>3</th>\n",
       "      <td>20.471686</td>\n",
       "    </tr>\n",
       "  </tbody>\n",
       "</table>\n",
       "</div>"
      ],
      "text/plain": [
       "           Experience\n",
       "Education            \n",
       "1           20.065363\n",
       "2           19.770492\n",
       "3           20.471686"
      ]
     },
     "execution_count": 40,
     "metadata": {
      "tags": []
     },
     "output_type": "execute_result"
    }
   ],
   "source": [
    "pd.DataFrame(loans.groupby(\"Education\").mean()[\"Experience\"])"
   ]
  },
  {
   "cell_type": "code",
   "execution_count": 41,
   "metadata": {
    "colab": {
     "base_uri": "https://localhost:8080/",
     "height": 328
    },
    "colab_type": "code",
    "id": "qoGZnAIEUf82",
    "outputId": "ab794567-6970-40ef-c73c-d23cb2009dd0"
   },
   "outputs": [
    {
     "data": {
      "text/html": [
       "<div>\n",
       "<style scoped>\n",
       "    .dataframe tbody tr th:only-of-type {\n",
       "        vertical-align: middle;\n",
       "    }\n",
       "\n",
       "    .dataframe tbody tr th {\n",
       "        vertical-align: top;\n",
       "    }\n",
       "\n",
       "    .dataframe thead th {\n",
       "        text-align: right;\n",
       "    }\n",
       "</style>\n",
       "<table border=\"1\" class=\"dataframe\">\n",
       "  <thead>\n",
       "    <tr style=\"text-align: right;\">\n",
       "      <th></th>\n",
       "      <th>Experience</th>\n",
       "    </tr>\n",
       "    <tr>\n",
       "      <th>Age</th>\n",
       "      <th></th>\n",
       "    </tr>\n",
       "  </thead>\n",
       "  <tbody>\n",
       "    <tr>\n",
       "      <th>60</th>\n",
       "      <td>34.645669</td>\n",
       "    </tr>\n",
       "    <tr>\n",
       "      <th>61</th>\n",
       "      <td>35.672131</td>\n",
       "    </tr>\n",
       "    <tr>\n",
       "      <th>62</th>\n",
       "      <td>36.829268</td>\n",
       "    </tr>\n",
       "    <tr>\n",
       "      <th>63</th>\n",
       "      <td>37.638889</td>\n",
       "    </tr>\n",
       "    <tr>\n",
       "      <th>64</th>\n",
       "      <td>38.846154</td>\n",
       "    </tr>\n",
       "    <tr>\n",
       "      <th>65</th>\n",
       "      <td>39.812500</td>\n",
       "    </tr>\n",
       "    <tr>\n",
       "      <th>66</th>\n",
       "      <td>40.875000</td>\n",
       "    </tr>\n",
       "    <tr>\n",
       "      <th>67</th>\n",
       "      <td>41.833333</td>\n",
       "    </tr>\n",
       "  </tbody>\n",
       "</table>\n",
       "</div>"
      ],
      "text/plain": [
       "     Experience\n",
       "Age            \n",
       "60    34.645669\n",
       "61    35.672131\n",
       "62    36.829268\n",
       "63    37.638889\n",
       "64    38.846154\n",
       "65    39.812500\n",
       "66    40.875000\n",
       "67    41.833333"
      ]
     },
     "execution_count": 41,
     "metadata": {
      "tags": []
     },
     "output_type": "execute_result"
    }
   ],
   "source": [
    "pd.DataFrame(loans.groupby(\"Age\").mean()[\"Experience\"]).tail(8)"
   ]
  },
  {
   "cell_type": "code",
   "execution_count": 42,
   "metadata": {
    "colab": {
     "base_uri": "https://localhost:8080/",
     "height": 385
    },
    "colab_type": "code",
    "id": "6JOt4OWrUhy8",
    "outputId": "84ddcde4-6327-4d27-db8d-d249a22eac3e"
   },
   "outputs": [
    {
     "data": {
      "image/png": "[encoded data removed]",
      "text/plain": [
       "<Figure size 360x360 with 1 Axes>"
      ]
     },
     "metadata": {
      "needs_background": "light",
      "tags": []
     },
     "output_type": "display_data"
    }
   ],
   "source": [
    "pltdf = pd.DataFrame(loans.groupby(\"Age\").mean()[\"Experience\"]).reset_index()\n",
    "sns.lmplot(x='Age',y='Experience',data=pltdf)\n",
    "plt.ylabel(\"Experience (Average)\")\n",
    "plt.title(\"Average of Experience by Age\")\n",
    "plt.show()"
   ]
  },
  {
   "cell_type": "code",
   "execution_count": 43,
   "metadata": {
    "colab": {
     "base_uri": "https://localhost:8080/",
     "height": 204
    },
    "colab_type": "code",
    "id": "bhwzoejmUjob",
    "outputId": "0442faa7-1c08-44d5-c607-427cd99c261a"
   },
   "outputs": [
    {
     "data": {
      "text/html": [
       "<div>\n",
       "<style scoped>\n",
       "    .dataframe tbody tr th:only-of-type {\n",
       "        vertical-align: middle;\n",
       "    }\n",
       "\n",
       "    .dataframe tbody tr th {\n",
       "        vertical-align: top;\n",
       "    }\n",
       "\n",
       "    .dataframe thead th {\n",
       "        text-align: right;\n",
       "    }\n",
       "</style>\n",
       "<table border=\"1\" class=\"dataframe\">\n",
       "  <thead>\n",
       "    <tr style=\"text-align: right;\">\n",
       "      <th></th>\n",
       "      <th>Age</th>\n",
       "      <th>Experience</th>\n",
       "    </tr>\n",
       "  </thead>\n",
       "  <tbody>\n",
       "    <tr>\n",
       "      <th>2717</th>\n",
       "      <td>23</td>\n",
       "      <td>-2</td>\n",
       "    </tr>\n",
       "    <tr>\n",
       "      <th>3130</th>\n",
       "      <td>23</td>\n",
       "      <td>-2</td>\n",
       "    </tr>\n",
       "    <tr>\n",
       "      <th>3425</th>\n",
       "      <td>23</td>\n",
       "      <td>-1</td>\n",
       "    </tr>\n",
       "    <tr>\n",
       "      <th>2962</th>\n",
       "      <td>23</td>\n",
       "      <td>-2</td>\n",
       "    </tr>\n",
       "    <tr>\n",
       "      <th>909</th>\n",
       "      <td>23</td>\n",
       "      <td>-1</td>\n",
       "    </tr>\n",
       "  </tbody>\n",
       "</table>\n",
       "</div>"
      ],
      "text/plain": [
       "      Age  Experience\n",
       "2717   23          -2\n",
       "3130   23          -2\n",
       "3425   23          -1\n",
       "2962   23          -2\n",
       "909    23          -1"
      ]
     },
     "execution_count": 43,
     "metadata": {
      "tags": []
     },
     "output_type": "execute_result"
    }
   ],
   "source": [
    "pd.DataFrame(loans[loans[\"Experience\"]<0][[\"Age\",\"Experience\"]].sort_values(\"Age\")).head()"
   ]
  },
  {
   "cell_type": "code",
   "execution_count": 44,
   "metadata": {
    "colab": {
     "base_uri": "https://localhost:8080/",
     "height": 34
    },
    "colab_type": "code",
    "id": "71KSSRR9UmZ5",
    "outputId": "aea45746-c867-4594-d6b0-1f0f3623b26a"
   },
   "outputs": [
    {
     "data": {
      "text/plain": [
       "array([23, 24, 25, 26, 28, 29])"
      ]
     },
     "execution_count": 44,
     "metadata": {
      "tags": []
     },
     "output_type": "execute_result"
    }
   ],
   "source": [
    "pd.DataFrame(loans[loans[\"Experience\"]<0][[\"Age\",\"Experience\"]].sort_values(\"Age\"))[\"Age\"].unique()\n"
   ]
  },
  {
   "cell_type": "code",
   "execution_count": 45,
   "metadata": {
    "colab": {
     "base_uri": "https://localhost:8080/",
     "height": 34
    },
    "colab_type": "code",
    "id": "NVIA19KcUoei",
    "outputId": "54e35a15-3f55-412b-969c-6c74d718d32a"
   },
   "outputs": [
    {
     "data": {
      "text/plain": [
       "array([-2, -1, -3])"
      ]
     },
     "execution_count": 45,
     "metadata": {
      "tags": []
     },
     "output_type": "execute_result"
    }
   ],
   "source": [
    "pd.DataFrame(loans[loans[\"Experience\"]<0][[\"Age\",\"Experience\"]].sort_values(\"Age\"))[\"Experience\"].unique()"
   ]
  },
  {
   "cell_type": "markdown",
   "metadata": {
    "colab_type": "text",
    "id": "Dct4SKg3pFeA"
   },
   "source": [
    "**Irregular value handling feature 1**"
   ]
  },
  {
   "cell_type": "code",
   "execution_count": 46,
   "metadata": {
    "colab": {},
    "colab_type": "code",
    "id": "2NJUHJ8LUp8j"
   },
   "outputs": [],
   "source": [
    "loans[\"Experience\"] = loans[\"Experience\"].apply(abs)"
   ]
  },
  {
   "cell_type": "code",
   "execution_count": 47,
   "metadata": {
    "colab": {
     "base_uri": "https://localhost:8080/",
     "height": 483
    },
    "colab_type": "code",
    "id": "Lb9UV9bTUsA0",
    "outputId": "fc039873-b7a6-4f4b-c624-f914f3dbb1ea"
   },
   "outputs": [
    {
     "data": {
      "text/html": [
       "<div>\n",
       "<style scoped>\n",
       "    .dataframe tbody tr th:only-of-type {\n",
       "        vertical-align: middle;\n",
       "    }\n",
       "\n",
       "    .dataframe tbody tr th {\n",
       "        vertical-align: top;\n",
       "    }\n",
       "\n",
       "    .dataframe thead th {\n",
       "        text-align: right;\n",
       "    }\n",
       "</style>\n",
       "<table border=\"1\" class=\"dataframe\">\n",
       "  <thead>\n",
       "    <tr style=\"text-align: right;\">\n",
       "      <th></th>\n",
       "      <th>count</th>\n",
       "      <th>mean</th>\n",
       "      <th>std</th>\n",
       "      <th>min</th>\n",
       "      <th>25%</th>\n",
       "      <th>50%</th>\n",
       "      <th>75%</th>\n",
       "      <th>max</th>\n",
       "    </tr>\n",
       "  </thead>\n",
       "  <tbody>\n",
       "    <tr>\n",
       "      <th>ID</th>\n",
       "      <td>5000.0</td>\n",
       "      <td>2500.500000</td>\n",
       "      <td>1443.520003</td>\n",
       "      <td>1.0</td>\n",
       "      <td>1250.75</td>\n",
       "      <td>2500.5</td>\n",
       "      <td>3750.25</td>\n",
       "      <td>5000.0</td>\n",
       "    </tr>\n",
       "    <tr>\n",
       "      <th>Age</th>\n",
       "      <td>5000.0</td>\n",
       "      <td>45.338400</td>\n",
       "      <td>11.463166</td>\n",
       "      <td>23.0</td>\n",
       "      <td>35.00</td>\n",
       "      <td>45.0</td>\n",
       "      <td>55.00</td>\n",
       "      <td>67.0</td>\n",
       "    </tr>\n",
       "    <tr>\n",
       "      <th>Experience</th>\n",
       "      <td>5000.0</td>\n",
       "      <td>20.134600</td>\n",
       "      <td>11.415189</td>\n",
       "      <td>0.0</td>\n",
       "      <td>10.00</td>\n",
       "      <td>20.0</td>\n",
       "      <td>30.00</td>\n",
       "      <td>43.0</td>\n",
       "    </tr>\n",
       "    <tr>\n",
       "      <th>Income</th>\n",
       "      <td>5000.0</td>\n",
       "      <td>73.774200</td>\n",
       "      <td>46.033729</td>\n",
       "      <td>8.0</td>\n",
       "      <td>39.00</td>\n",
       "      <td>64.0</td>\n",
       "      <td>98.00</td>\n",
       "      <td>224.0</td>\n",
       "    </tr>\n",
       "    <tr>\n",
       "      <th>ZIP Code</th>\n",
       "      <td>5000.0</td>\n",
       "      <td>93152.503000</td>\n",
       "      <td>2121.852197</td>\n",
       "      <td>9307.0</td>\n",
       "      <td>91911.00</td>\n",
       "      <td>93437.0</td>\n",
       "      <td>94608.00</td>\n",
       "      <td>96651.0</td>\n",
       "    </tr>\n",
       "    <tr>\n",
       "      <th>Family</th>\n",
       "      <td>5000.0</td>\n",
       "      <td>2.396400</td>\n",
       "      <td>1.147663</td>\n",
       "      <td>1.0</td>\n",
       "      <td>1.00</td>\n",
       "      <td>2.0</td>\n",
       "      <td>3.00</td>\n",
       "      <td>4.0</td>\n",
       "    </tr>\n",
       "    <tr>\n",
       "      <th>CCAvg</th>\n",
       "      <td>5000.0</td>\n",
       "      <td>1.937913</td>\n",
       "      <td>1.747666</td>\n",
       "      <td>0.0</td>\n",
       "      <td>0.70</td>\n",
       "      <td>1.5</td>\n",
       "      <td>2.50</td>\n",
       "      <td>10.0</td>\n",
       "    </tr>\n",
       "    <tr>\n",
       "      <th>Education</th>\n",
       "      <td>5000.0</td>\n",
       "      <td>1.881000</td>\n",
       "      <td>0.839869</td>\n",
       "      <td>1.0</td>\n",
       "      <td>1.00</td>\n",
       "      <td>2.0</td>\n",
       "      <td>3.00</td>\n",
       "      <td>3.0</td>\n",
       "    </tr>\n",
       "    <tr>\n",
       "      <th>Mortgage</th>\n",
       "      <td>5000.0</td>\n",
       "      <td>56.498800</td>\n",
       "      <td>101.713802</td>\n",
       "      <td>0.0</td>\n",
       "      <td>0.00</td>\n",
       "      <td>0.0</td>\n",
       "      <td>101.00</td>\n",
       "      <td>635.0</td>\n",
       "    </tr>\n",
       "    <tr>\n",
       "      <th>Securities Account</th>\n",
       "      <td>5000.0</td>\n",
       "      <td>0.104400</td>\n",
       "      <td>0.305809</td>\n",
       "      <td>0.0</td>\n",
       "      <td>0.00</td>\n",
       "      <td>0.0</td>\n",
       "      <td>0.00</td>\n",
       "      <td>1.0</td>\n",
       "    </tr>\n",
       "    <tr>\n",
       "      <th>CD Account</th>\n",
       "      <td>5000.0</td>\n",
       "      <td>0.060400</td>\n",
       "      <td>0.238250</td>\n",
       "      <td>0.0</td>\n",
       "      <td>0.00</td>\n",
       "      <td>0.0</td>\n",
       "      <td>0.00</td>\n",
       "      <td>1.0</td>\n",
       "    </tr>\n",
       "    <tr>\n",
       "      <th>Online</th>\n",
       "      <td>5000.0</td>\n",
       "      <td>0.596800</td>\n",
       "      <td>0.490589</td>\n",
       "      <td>0.0</td>\n",
       "      <td>0.00</td>\n",
       "      <td>1.0</td>\n",
       "      <td>1.00</td>\n",
       "      <td>1.0</td>\n",
       "    </tr>\n",
       "    <tr>\n",
       "      <th>CreditCard</th>\n",
       "      <td>5000.0</td>\n",
       "      <td>0.294000</td>\n",
       "      <td>0.455637</td>\n",
       "      <td>0.0</td>\n",
       "      <td>0.00</td>\n",
       "      <td>0.0</td>\n",
       "      <td>1.00</td>\n",
       "      <td>1.0</td>\n",
       "    </tr>\n",
       "    <tr>\n",
       "      <th>Personal Loan</th>\n",
       "      <td>5000.0</td>\n",
       "      <td>0.096000</td>\n",
       "      <td>0.294621</td>\n",
       "      <td>0.0</td>\n",
       "      <td>0.00</td>\n",
       "      <td>0.0</td>\n",
       "      <td>0.00</td>\n",
       "      <td>1.0</td>\n",
       "    </tr>\n",
       "  </tbody>\n",
       "</table>\n",
       "</div>"
      ],
      "text/plain": [
       "                     count          mean  ...       75%      max\n",
       "ID                  5000.0   2500.500000  ...   3750.25   5000.0\n",
       "Age                 5000.0     45.338400  ...     55.00     67.0\n",
       "Experience          5000.0     20.134600  ...     30.00     43.0\n",
       "Income              5000.0     73.774200  ...     98.00    224.0\n",
       "ZIP Code            5000.0  93152.503000  ...  94608.00  96651.0\n",
       "Family              5000.0      2.396400  ...      3.00      4.0\n",
       "CCAvg               5000.0      1.937913  ...      2.50     10.0\n",
       "Education           5000.0      1.881000  ...      3.00      3.0\n",
       "Mortgage            5000.0     56.498800  ...    101.00    635.0\n",
       "Securities Account  5000.0      0.104400  ...      0.00      1.0\n",
       "CD Account          5000.0      0.060400  ...      0.00      1.0\n",
       "Online              5000.0      0.596800  ...      1.00      1.0\n",
       "CreditCard          5000.0      0.294000  ...      1.00      1.0\n",
       "Personal Loan       5000.0      0.096000  ...      0.00      1.0\n",
       "\n",
       "[14 rows x 8 columns]"
      ]
     },
     "execution_count": 47,
     "metadata": {
      "tags": []
     },
     "output_type": "execute_result"
    }
   ],
   "source": [
    "loans.describe().transpose()"
   ]
  },
  {
   "cell_type": "code",
   "execution_count": 48,
   "metadata": {
    "colab": {
     "base_uri": "https://localhost:8080/",
     "height": 483
    },
    "colab_type": "code",
    "id": "QzmqNe4hUt-I",
    "outputId": "226f68a4-5955-4324-ad3d-76ce5daa5394"
   },
   "outputs": [
    {
     "data": {
      "text/html": [
       "<div>\n",
       "<style scoped>\n",
       "    .dataframe tbody tr th:only-of-type {\n",
       "        vertical-align: middle;\n",
       "    }\n",
       "\n",
       "    .dataframe tbody tr th {\n",
       "        vertical-align: top;\n",
       "    }\n",
       "\n",
       "    .dataframe thead th {\n",
       "        text-align: right;\n",
       "    }\n",
       "</style>\n",
       "<table border=\"1\" class=\"dataframe\">\n",
       "  <thead>\n",
       "    <tr style=\"text-align: right;\">\n",
       "      <th></th>\n",
       "      <th>count</th>\n",
       "      <th>mean</th>\n",
       "      <th>std</th>\n",
       "      <th>min</th>\n",
       "      <th>25%</th>\n",
       "      <th>50%</th>\n",
       "      <th>75%</th>\n",
       "      <th>max</th>\n",
       "    </tr>\n",
       "  </thead>\n",
       "  <tbody>\n",
       "    <tr>\n",
       "      <th>ID</th>\n",
       "      <td>5000.0</td>\n",
       "      <td>2500.500000</td>\n",
       "      <td>1443.520003</td>\n",
       "      <td>1.0</td>\n",
       "      <td>1250.75</td>\n",
       "      <td>2500.5</td>\n",
       "      <td>3750.25</td>\n",
       "      <td>5000.0</td>\n",
       "    </tr>\n",
       "    <tr>\n",
       "      <th>Age</th>\n",
       "      <td>5000.0</td>\n",
       "      <td>45.338400</td>\n",
       "      <td>11.463166</td>\n",
       "      <td>23.0</td>\n",
       "      <td>35.00</td>\n",
       "      <td>45.0</td>\n",
       "      <td>55.00</td>\n",
       "      <td>67.0</td>\n",
       "    </tr>\n",
       "    <tr>\n",
       "      <th>Experience</th>\n",
       "      <td>5000.0</td>\n",
       "      <td>20.134600</td>\n",
       "      <td>11.415189</td>\n",
       "      <td>0.0</td>\n",
       "      <td>10.00</td>\n",
       "      <td>20.0</td>\n",
       "      <td>30.00</td>\n",
       "      <td>43.0</td>\n",
       "    </tr>\n",
       "    <tr>\n",
       "      <th>Income</th>\n",
       "      <td>5000.0</td>\n",
       "      <td>73.774200</td>\n",
       "      <td>46.033729</td>\n",
       "      <td>8.0</td>\n",
       "      <td>39.00</td>\n",
       "      <td>64.0</td>\n",
       "      <td>98.00</td>\n",
       "      <td>224.0</td>\n",
       "    </tr>\n",
       "    <tr>\n",
       "      <th>ZIP Code</th>\n",
       "      <td>5000.0</td>\n",
       "      <td>93152.503000</td>\n",
       "      <td>2121.852197</td>\n",
       "      <td>9307.0</td>\n",
       "      <td>91911.00</td>\n",
       "      <td>93437.0</td>\n",
       "      <td>94608.00</td>\n",
       "      <td>96651.0</td>\n",
       "    </tr>\n",
       "    <tr>\n",
       "      <th>Family</th>\n",
       "      <td>5000.0</td>\n",
       "      <td>2.396400</td>\n",
       "      <td>1.147663</td>\n",
       "      <td>1.0</td>\n",
       "      <td>1.00</td>\n",
       "      <td>2.0</td>\n",
       "      <td>3.00</td>\n",
       "      <td>4.0</td>\n",
       "    </tr>\n",
       "    <tr>\n",
       "      <th>CCAvg</th>\n",
       "      <td>5000.0</td>\n",
       "      <td>1.937913</td>\n",
       "      <td>1.747666</td>\n",
       "      <td>0.0</td>\n",
       "      <td>0.70</td>\n",
       "      <td>1.5</td>\n",
       "      <td>2.50</td>\n",
       "      <td>10.0</td>\n",
       "    </tr>\n",
       "    <tr>\n",
       "      <th>Education</th>\n",
       "      <td>5000.0</td>\n",
       "      <td>1.881000</td>\n",
       "      <td>0.839869</td>\n",
       "      <td>1.0</td>\n",
       "      <td>1.00</td>\n",
       "      <td>2.0</td>\n",
       "      <td>3.00</td>\n",
       "      <td>3.0</td>\n",
       "    </tr>\n",
       "    <tr>\n",
       "      <th>Mortgage</th>\n",
       "      <td>5000.0</td>\n",
       "      <td>56.498800</td>\n",
       "      <td>101.713802</td>\n",
       "      <td>0.0</td>\n",
       "      <td>0.00</td>\n",
       "      <td>0.0</td>\n",
       "      <td>101.00</td>\n",
       "      <td>635.0</td>\n",
       "    </tr>\n",
       "    <tr>\n",
       "      <th>Securities Account</th>\n",
       "      <td>5000.0</td>\n",
       "      <td>0.104400</td>\n",
       "      <td>0.305809</td>\n",
       "      <td>0.0</td>\n",
       "      <td>0.00</td>\n",
       "      <td>0.0</td>\n",
       "      <td>0.00</td>\n",
       "      <td>1.0</td>\n",
       "    </tr>\n",
       "    <tr>\n",
       "      <th>CD Account</th>\n",
       "      <td>5000.0</td>\n",
       "      <td>0.060400</td>\n",
       "      <td>0.238250</td>\n",
       "      <td>0.0</td>\n",
       "      <td>0.00</td>\n",
       "      <td>0.0</td>\n",
       "      <td>0.00</td>\n",
       "      <td>1.0</td>\n",
       "    </tr>\n",
       "    <tr>\n",
       "      <th>Online</th>\n",
       "      <td>5000.0</td>\n",
       "      <td>0.596800</td>\n",
       "      <td>0.490589</td>\n",
       "      <td>0.0</td>\n",
       "      <td>0.00</td>\n",
       "      <td>1.0</td>\n",
       "      <td>1.00</td>\n",
       "      <td>1.0</td>\n",
       "    </tr>\n",
       "    <tr>\n",
       "      <th>CreditCard</th>\n",
       "      <td>5000.0</td>\n",
       "      <td>0.294000</td>\n",
       "      <td>0.455637</td>\n",
       "      <td>0.0</td>\n",
       "      <td>0.00</td>\n",
       "      <td>0.0</td>\n",
       "      <td>1.00</td>\n",
       "      <td>1.0</td>\n",
       "    </tr>\n",
       "    <tr>\n",
       "      <th>Personal Loan</th>\n",
       "      <td>5000.0</td>\n",
       "      <td>0.096000</td>\n",
       "      <td>0.294621</td>\n",
       "      <td>0.0</td>\n",
       "      <td>0.00</td>\n",
       "      <td>0.0</td>\n",
       "      <td>0.00</td>\n",
       "      <td>1.0</td>\n",
       "    </tr>\n",
       "  </tbody>\n",
       "</table>\n",
       "</div>"
      ],
      "text/plain": [
       "                     count          mean  ...       75%      max\n",
       "ID                  5000.0   2500.500000  ...   3750.25   5000.0\n",
       "Age                 5000.0     45.338400  ...     55.00     67.0\n",
       "Experience          5000.0     20.134600  ...     30.00     43.0\n",
       "Income              5000.0     73.774200  ...     98.00    224.0\n",
       "ZIP Code            5000.0  93152.503000  ...  94608.00  96651.0\n",
       "Family              5000.0      2.396400  ...      3.00      4.0\n",
       "CCAvg               5000.0      1.937913  ...      2.50     10.0\n",
       "Education           5000.0      1.881000  ...      3.00      3.0\n",
       "Mortgage            5000.0     56.498800  ...    101.00    635.0\n",
       "Securities Account  5000.0      0.104400  ...      0.00      1.0\n",
       "CD Account          5000.0      0.060400  ...      0.00      1.0\n",
       "Online              5000.0      0.596800  ...      1.00      1.0\n",
       "CreditCard          5000.0      0.294000  ...      1.00      1.0\n",
       "Personal Loan       5000.0      0.096000  ...      0.00      1.0\n",
       "\n",
       "[14 rows x 8 columns]"
      ]
     },
     "execution_count": 48,
     "metadata": {
      "tags": []
     },
     "output_type": "execute_result"
    }
   ],
   "source": [
    "loans.describe().transpose()"
   ]
  },
  {
   "cell_type": "code",
   "execution_count": 49,
   "metadata": {
    "colab": {
     "base_uri": "https://localhost:8080/",
     "height": 374
    },
    "colab_type": "code",
    "id": "eh0loeMCUxLi",
    "outputId": "226073b9-5719-4689-90da-bea11a9ba78c"
   },
   "outputs": [
    {
     "name": "stdout",
     "output_type": "stream",
     "text": [
      "<class 'pandas.core.frame.DataFrame'>\n",
      "RangeIndex: 5000 entries, 0 to 4999\n",
      "Data columns (total 14 columns):\n",
      " #   Column              Non-Null Count  Dtype  \n",
      "---  ------              --------------  -----  \n",
      " 0   ID                  5000 non-null   int64  \n",
      " 1   Age                 5000 non-null   int64  \n",
      " 2   Experience          5000 non-null   int64  \n",
      " 3   Income              5000 non-null   int64  \n",
      " 4   ZIP Code            5000 non-null   int64  \n",
      " 5   Family              5000 non-null   int64  \n",
      " 6   CCAvg               5000 non-null   float64\n",
      " 7   Education           5000 non-null   int64  \n",
      " 8   Mortgage            5000 non-null   int64  \n",
      " 9   Securities Account  5000 non-null   int64  \n",
      " 10  CD Account          5000 non-null   int64  \n",
      " 11  Online              5000 non-null   int64  \n",
      " 12  CreditCard          5000 non-null   int64  \n",
      " 13  Personal Loan       5000 non-null   int64  \n",
      "dtypes: float64(1), int64(13)\n",
      "memory usage: 547.0 KB\n"
     ]
    }
   ],
   "source": [
    "loans.info()"
   ]
  },
  {
   "cell_type": "markdown",
   "metadata": {
    "colab_type": "text",
    "id": "MQC3ipBupfiW"
   },
   "source": [
    "### **Feature correlation analysis**\n",
    "\n",
    "The purpose of this section to find if there are possibility of multi-correlation between features and in the same time to get insight about which features (X) that have good correlation with our target (y)."
   ]
  },
  {
   "cell_type": "code",
   "execution_count": 50,
   "metadata": {
    "colab": {},
    "colab_type": "code",
    "id": "kS84nsUWUyuI"
   },
   "outputs": [],
   "source": [
    "feature = loans.drop([\"ID\",\"Personal Loan\"],axis=1)\n",
    "target = loans[\"Personal Loan\"]\n"
   ]
  },
  {
   "cell_type": "markdown",
   "metadata": {
    "colab_type": "text",
    "id": "JKlOgfrHtWZq"
   },
   "source": [
    "**Heatmap correlation**\n",
    "\n",
    "Heatmap is one of simplest method to analyze feature correlation.\n",
    "\n",
    "Heatmap correlation with only features (X) - we need to know correlation between features and avoid multi-correlation features,\n",
    "Heatmap correlation with features (X) and target (y) - we need to know which features that have good correlation with our target,"
   ]
  },
  {
   "cell_type": "code",
   "execution_count": 51,
   "metadata": {
    "colab": {
     "base_uri": "https://localhost:8080/",
     "height": 643
    },
    "colab_type": "code",
    "id": "ND79APToU1Rs",
    "outputId": "3ede5d40-98c1-475c-9711-b8b81cf00e73"
   },
   "outputs": [
    {
     "data": {
      "text/plain": [
       "<matplotlib.axes._subplots.AxesSubplot at 0x7fef9d522a20>"
      ]
     },
     "execution_count": 51,
     "metadata": {
      "tags": []
     },
     "output_type": "execute_result"
    },
    {
     "data": {
      "image/png": "[encoded data removed]",
      "text/plain": [
       "<Figure size 720x720 with 2 Axes>"
      ]
     },
     "metadata": {
      "needs_background": "light",
      "tags": []
     },
     "output_type": "display_data"
    }
   ],
   "source": [
    "corr = feature.corr()\n",
    "\n",
    "mask = np.zeros_like(corr)\n",
    "mask[np.triu_indices_from(mask)] = True\n",
    "\n",
    "plt.figure(figsize=(10, 10))\n",
    "sns.heatmap(corr, mask=mask,annot=True,square=True)"
   ]
  },
  {
   "cell_type": "code",
   "execution_count": 52,
   "metadata": {
    "colab": {
     "base_uri": "https://localhost:8080/",
     "height": 630
    },
    "colab_type": "code",
    "id": "Hrm2pcE1U3ha",
    "outputId": "0d3a9f85-6390-4b2e-9cc6-934801bdea37"
   },
   "outputs": [
    {
     "data": {
      "image/png": "[encoded data removed]",
      "text/plain": [
       "<Figure size 720x720 with 2 Axes>"
      ]
     },
     "metadata": {
      "needs_background": "light",
      "tags": []
     },
     "output_type": "display_data"
    }
   ],
   "source": [
    "loans_corr = feature.join(target).corr()\n",
    "\n",
    "mask = np.zeros((13,13))\n",
    "mask[:12,:]=1\n",
    "\n",
    "plt.figure(figsize=(10, 10))\n",
    "with sns.axes_style(\"white\"):\n",
    "    sns.heatmap(loans_corr, annot=True,square=True,mask=mask)"
   ]
  },
  {
   "cell_type": "markdown",
   "metadata": {
    "colab_type": "text",
    "id": "Nn0DN8dRtnn4"
   },
   "source": [
    "### **Distribution analysis**"
   ]
  },
  {
   "cell_type": "code",
   "execution_count": 53,
   "metadata": {
    "colab": {
     "base_uri": "https://localhost:8080/",
     "height": 312
    },
    "colab_type": "code",
    "id": "XofpDCyOU6em",
    "outputId": "8a95b310-3a77-4bcc-f641-20dc8fd8ea6c"
   },
   "outputs": [
    {
     "data": {
      "text/plain": [
       "Text(0.5, 1.0, 'Mortgage Distribution with KDE')"
      ]
     },
     "execution_count": 53,
     "metadata": {
      "tags": []
     },
     "output_type": "execute_result"
    },
    {
     "data": {
      "image/png": "[encoded data removed]",
      "text/plain": [
       "<Figure size 432x288 with 1 Axes>"
      ]
     },
     "metadata": {
      "needs_background": "light",
      "tags": []
     },
     "output_type": "display_data"
    }
   ],
   "source": [
    "sns.distplot(feature[\"Mortgage\"])\n",
    "plt.title(\"Mortgage Distribution with KDE\")"
   ]
  },
  {
   "cell_type": "markdown",
   "metadata": {
    "colab_type": "text",
    "id": "mMgXh0uqwdim"
   },
   "source": [
    "**Irregular value handling feature 2 (extreme positive skewed data)**"
   ]
  },
  {
   "cell_type": "code",
   "execution_count": 54,
   "metadata": {
    "colab": {
     "base_uri": "https://localhost:8080/",
     "height": 312
    },
    "colab_type": "code",
    "id": "8_oyfchVU9Bh",
    "outputId": "77203b25-0b7d-40e2-8e8f-62b9dbd393b3"
   },
   "outputs": [
    {
     "data": {
      "text/plain": [
       "Text(0.5, 1.0, 'Mortgage Distribution with KDE First Transformation')"
      ]
     },
     "execution_count": 54,
     "metadata": {
      "tags": []
     },
     "output_type": "execute_result"
    },
    {
     "data": {
      "image/png": "[encoded data removed]",
      "text/plain": [
       "<Figure size 432x288 with 1 Axes>"
      ]
     },
     "metadata": {
      "needs_background": "light",
      "tags": []
     },
     "output_type": "display_data"
    }
   ],
   "source": [
    "SingleLog_y = np.log1p(feature[\"Mortgage\"])              # Log transformation of the target variable\n",
    "sns.distplot(SingleLog_y, color =\"r\")\n",
    "plt.title(\"Mortgage Distribution with KDE First Transformation\")"
   ]
  },
  {
   "cell_type": "code",
   "execution_count": 55,
   "metadata": {
    "colab": {
     "base_uri": "https://localhost:8080/",
     "height": 312
    },
    "colab_type": "code",
    "id": "Ocr0FiaGU_8g",
    "outputId": "05dde42f-c123-4433-a6e0-44c16dcfcb3f"
   },
   "outputs": [
    {
     "data": {
      "text/plain": [
       "Text(0.5, 1.0, 'Mortgage Distribution with KDE Second Transformation')"
      ]
     },
     "execution_count": 55,
     "metadata": {
      "tags": []
     },
     "output_type": "execute_result"
    },
    {
     "data": {
      "image/png": "[encoded data removed]",
      "text/plain": [
       "<Figure size 432x288 with 1 Axes>"
      ]
     },
     "metadata": {
      "needs_background": "light",
      "tags": []
     },
     "output_type": "display_data"
    }
   ],
   "source": [
    "DoubleLog_y = np.log1p(SingleLog_y)\n",
    "sns.distplot(DoubleLog_y, color =\"g\")\n",
    "plt.title(\"Mortgage Distribution with KDE Second Transformation\")"
   ]
  },
  {
   "cell_type": "code",
   "execution_count": 56,
   "metadata": {
    "colab": {},
    "colab_type": "code",
    "id": "N15HOsPdVC87"
   },
   "outputs": [],
   "source": [
    "loans[\"Mortgage\"] = DoubleLog_y"
   ]
  },
  {
   "cell_type": "markdown",
   "metadata": {
    "colab_type": "text",
    "id": "csF3NmuZwoPa"
   },
   "source": [
    "**Distribution analysis 2**"
   ]
  },
  {
   "cell_type": "code",
   "execution_count": 57,
   "metadata": {
    "colab": {
     "base_uri": "https://localhost:8080/",
     "height": 111
    },
    "colab_type": "code",
    "id": "BZQUq8qNVEuk",
    "outputId": "af67e165-b403-4850-8c6a-0007368192df"
   },
   "outputs": [
    {
     "data": {
      "text/html": [
       "<div>\n",
       "<style scoped>\n",
       "    .dataframe tbody tr th:only-of-type {\n",
       "        vertical-align: middle;\n",
       "    }\n",
       "\n",
       "    .dataframe tbody tr th {\n",
       "        vertical-align: top;\n",
       "    }\n",
       "\n",
       "    .dataframe thead th {\n",
       "        text-align: right;\n",
       "    }\n",
       "</style>\n",
       "<table border=\"1\" class=\"dataframe\">\n",
       "  <thead>\n",
       "    <tr style=\"text-align: right;\">\n",
       "      <th></th>\n",
       "      <th>Labels</th>\n",
       "      <th>Personal Loan</th>\n",
       "    </tr>\n",
       "  </thead>\n",
       "  <tbody>\n",
       "    <tr>\n",
       "      <th>0</th>\n",
       "      <td>0</td>\n",
       "      <td>4520</td>\n",
       "    </tr>\n",
       "    <tr>\n",
       "      <th>1</th>\n",
       "      <td>1</td>\n",
       "      <td>480</td>\n",
       "    </tr>\n",
       "  </tbody>\n",
       "</table>\n",
       "</div>"
      ],
      "text/plain": [
       "   Labels  Personal Loan\n",
       "0       0           4520\n",
       "1       1            480"
      ]
     },
     "execution_count": 57,
     "metadata": {
      "tags": []
     },
     "output_type": "execute_result"
    }
   ],
   "source": [
    "source_counts =pd.DataFrame(loans[\"Personal Loan\"].value_counts()).reset_index()\n",
    "source_counts.columns =[\"Labels\",\"Personal Loan\"]\n",
    "source_counts"
   ]
  },
  {
   "cell_type": "code",
   "execution_count": 58,
   "metadata": {
    "colab": {
     "base_uri": "https://localhost:8080/",
     "height": 264
    },
    "colab_type": "code",
    "id": "ljZZAK2vVGqh",
    "outputId": "eff4ed96-0504-4d20-c907-dd3cd76a3d36"
   },
   "outputs": [
    {
     "data": {
      "image/png": "[encoded data removed]",
      "text/plain": [
       "<Figure size 432x288 with 1 Axes>"
      ]
     },
     "metadata": {
      "tags": []
     },
     "output_type": "display_data"
    }
   ],
   "source": [
    "fig1, ax1 = plt.subplots()\n",
    "explode = (0, 0.15)\n",
    "ax1.pie(source_counts[\"Personal Loan\"], explode=explode, labels=source_counts[\"Labels\"], autopct='%1.1f%%',\n",
    "        shadow=True, startangle=70)\n",
    "ax1.axis('equal')  # Equal aspect ratio ensures that pie is drawn as a circle.\n",
    "plt.title(\"Personal Loan Percentage\")\n",
    "plt.show()\n"
   ]
  },
  {
   "cell_type": "code",
   "execution_count": 59,
   "metadata": {
    "colab": {
     "base_uri": "https://localhost:8080/",
     "height": 421
    },
    "colab_type": "code",
    "id": "q4vRPHN_VI12",
    "outputId": "0ecf3a35-092f-4c85-8875-e449a5855120"
   },
   "outputs": [
    {
     "data": {
      "text/plain": [
       "Text(0.5, 1.0, 'Income Distribution')"
      ]
     },
     "execution_count": 59,
     "metadata": {
      "tags": []
     },
     "output_type": "execute_result"
    },
    {
     "data": {
      "image/png": "[encoded data removed]",
      "text/plain": [
       "<Figure size 720x432 with 1 Axes>"
      ]
     },
     "metadata": {
      "needs_background": "light",
      "tags": []
     },
     "output_type": "display_data"
    }
   ],
   "source": [
    "plt.figure(figsize=(10,6))\n",
    "sns.distplot(loans[loans[\"Personal Loan\"] == 0]['Income'], color = 'r',label='Personal Loan=0',kde=False)\n",
    "sns.distplot(loans[loans[\"Personal Loan\"] == 1]['Income'], color = 'b',label='Personal Loan=1',kde=False)\n",
    "plt.legend()\n",
    "plt.title(\"Income Distribution\")"
   ]
  },
  {
   "cell_type": "code",
   "execution_count": 60,
   "metadata": {
    "colab": {
     "base_uri": "https://localhost:8080/",
     "height": 421
    },
    "colab_type": "code",
    "id": "pgzk3OnUVKt6",
    "outputId": "f77455ac-83bc-4abb-effd-360f91f83ed8"
   },
   "outputs": [
    {
     "data": {
      "text/plain": [
       "Text(0.5, 1.0, 'CCAvg Distribution')"
      ]
     },
     "execution_count": 60,
     "metadata": {
      "tags": []
     },
     "output_type": "execute_result"
    },
    {
     "data": {
      "image/png": "[encoded data removed]",
      "text/plain": [
       "<Figure size 720x432 with 1 Axes>"
      ]
     },
     "metadata": {
      "needs_background": "light",
      "tags": []
     },
     "output_type": "display_data"
    }
   ],
   "source": [
    "plt.figure(figsize=(10,6))\n",
    "sns.distplot(loans[loans[\"Personal Loan\"] == 0]['CCAvg'], color = 'r',label='Personal Loan=0',kde=False)\n",
    "sns.distplot(loans[loans[\"Personal Loan\"] == 1]['CCAvg'], color = 'b',label='Personal Loan=1',kde=False)\n",
    "plt.legend()\n",
    "plt.title(\"CCAvg Distribution\")"
   ]
  },
  {
   "cell_type": "code",
   "execution_count": 61,
   "metadata": {
    "colab": {
     "base_uri": "https://localhost:8080/",
     "height": 421
    },
    "colab_type": "code",
    "id": "UgHO0u7DVMnm",
    "outputId": "518c1c99-06a4-4755-b47b-8b3d396c7e89"
   },
   "outputs": [
    {
     "data": {
      "text/plain": [
       "Text(0.5, 1.0, 'Experience Distribution')"
      ]
     },
     "execution_count": 61,
     "metadata": {
      "tags": []
     },
     "output_type": "execute_result"
    },
    {
     "data": {
      "image/png": "[encoded data removed]",
      "text/plain": [
       "<Figure size 720x432 with 1 Axes>"
      ]
     },
     "metadata": {
      "needs_background": "light",
      "tags": []
     },
     "output_type": "display_data"
    }
   ],
   "source": [
    "plt.figure(figsize=(10,6))\n",
    "sns.distplot(loans[loans[\"Personal Loan\"] == 0]['Experience'], color = 'r',label='Personal Loan=0',kde=False)\n",
    "sns.distplot(loans[loans[\"Personal Loan\"] == 1]['Experience'], color = 'b',label='Personal Loan=1',kde=False)\n",
    "plt.legend()\n",
    "plt.title(\"Experience Distribution\")"
   ]
  },
  {
   "cell_type": "code",
   "execution_count": 62,
   "metadata": {
    "colab": {
     "base_uri": "https://localhost:8080/",
     "height": 312
    },
    "colab_type": "code",
    "id": "HhZo-WL-VOQb",
    "outputId": "4f1c711c-80f4-417c-a4c9-ca4507cd8717"
   },
   "outputs": [
    {
     "data": {
      "text/plain": [
       "Text(0.5, 1.0, 'Securities Account Countplot')"
      ]
     },
     "execution_count": 62,
     "metadata": {
      "tags": []
     },
     "output_type": "execute_result"
    },
    {
     "data": {
      "image/png": "[encoded data removed]",
      "text/plain": [
       "<Figure size 432x288 with 1 Axes>"
      ]
     },
     "metadata": {
      "needs_background": "light",
      "tags": []
     },
     "output_type": "display_data"
    }
   ],
   "source": [
    "sns.countplot(x='Securities Account',data=loans,hue='Personal Loan')\n",
    "plt.title(\"Securities Account Countplot\")\n",
    "\n"
   ]
  },
  {
   "cell_type": "code",
   "execution_count": 63,
   "metadata": {
    "colab": {
     "base_uri": "https://localhost:8080/",
     "height": 312
    },
    "colab_type": "code",
    "id": "NTKPQf13VQVf",
    "outputId": "2b8f3c53-53ad-4c09-f4b3-f55f53e16049"
   },
   "outputs": [
    {
     "data": {
      "text/plain": [
       "Text(0.5, 1.0, 'Family Countplot')"
      ]
     },
     "execution_count": 63,
     "metadata": {
      "tags": []
     },
     "output_type": "execute_result"
    },
    {
     "data": {
      "image/png": "[encoded data removed]",
      "text/plain": [
       "<Figure size 432x288 with 1 Axes>"
      ]
     },
     "metadata": {
      "needs_background": "light",
      "tags": []
     },
     "output_type": "display_data"
    }
   ],
   "source": [
    "sns.countplot(x='Family',data=loans,hue='Personal Loan')\n",
    "plt.title(\"Family Countplot\")\n"
   ]
  },
  {
   "cell_type": "code",
   "execution_count": 64,
   "metadata": {
    "colab": {
     "base_uri": "https://localhost:8080/",
     "height": 312
    },
    "colab_type": "code",
    "id": "n0xgAEHsVU3s",
    "outputId": "15b61766-702b-493f-d439-a413f2b6cda0"
   },
   "outputs": [
    {
     "data": {
      "text/plain": [
       "Text(0.5, 1.0, 'Education and Income Boxplot')"
      ]
     },
     "execution_count": 64,
     "metadata": {
      "tags": []
     },
     "output_type": "execute_result"
    },
    {
     "data": {
      "image/png": "[encoded data removed]",
      "text/plain": [
       "<Figure size 432x288 with 1 Axes>"
      ]
     },
     "metadata": {
      "needs_background": "light",
      "tags": []
     },
     "output_type": "display_data"
    }
   ],
   "source": [
    "sns.boxplot(x='Education',data=loans,hue='Personal Loan',y='Income')\n",
    "plt.legend(loc='lower right')\n",
    "plt.title(\"Education and Income Boxplot\")"
   ]
  },
  {
   "cell_type": "code",
   "execution_count": 65,
   "metadata": {
    "colab": {
     "base_uri": "https://localhost:8080/",
     "height": 312
    },
    "colab_type": "code",
    "id": "zy3f-yu2VWlN",
    "outputId": "ea089b00-655e-46f7-8fb9-8b4f556a1398"
   },
   "outputs": [
    {
     "data": {
      "text/plain": [
       "Text(0.5, 1.0, 'Family and Income Boxplot')"
      ]
     },
     "execution_count": 65,
     "metadata": {
      "tags": []
     },
     "output_type": "execute_result"
    },
    {
     "data": {
      "image/png": "[encoded data removed]",
      "text/plain": [
       "<Figure size 432x288 with 1 Axes>"
      ]
     },
     "metadata": {
      "needs_background": "light",
      "tags": []
     },
     "output_type": "display_data"
    }
   ],
   "source": [
    "sns.boxplot(x='Family',data=loans,hue='Personal Loan',y='Income')\n",
    "plt.legend(loc='upper center')\n",
    "plt.title(\"Family and Income Boxplot\")"
   ]
  },
  {
   "cell_type": "markdown",
   "metadata": {
    "colab_type": "text",
    "id": "MAfh7OhuxFIX"
   },
   "source": [
    "### **Feature Selection**\n",
    "\n",
    "Based on \"Feature correlation analysis\" & \"Distribution analysis\" you can throw away some unnecessary features or even you want to add new feature. Please do some handling about feature selection (selecting necessary features) and state your reason for such handling."
   ]
  },
  {
   "cell_type": "code",
   "execution_count": 66,
   "metadata": {
    "colab": {},
    "colab_type": "code",
    "id": "sFkArSktVYKd"
   },
   "outputs": [],
   "source": [
    "feature = loans.drop([\"ID\",\"Personal Loan\"],axis=1)\n",
    "target = loans[\"Personal Loan\"]\n"
   ]
  },
  {
   "cell_type": "markdown",
   "metadata": {
    "colab_type": "text",
    "id": "VC4rv5G1xJhF"
   },
   "source": [
    "### **Features Removing**"
   ]
  },
  {
   "cell_type": "code",
   "execution_count": 67,
   "metadata": {
    "colab": {},
    "colab_type": "code",
    "id": "KZU3uYj0VacR"
   },
   "outputs": [],
   "source": [
    "feature = feature.drop([\"ZIP Code\",\"Age\",\"Online\",\"CreditCard\"],axis=1)"
   ]
  },
  {
   "cell_type": "markdown",
   "metadata": {
    "colab_type": "text",
    "id": "0larbfPK-8o-"
   },
   "source": [
    "## **Transformations for Feature Variables**"
   ]
  },
  {
   "cell_type": "markdown",
   "metadata": {
    "colab_type": "text",
    "id": "4EsiCSfzxOWm"
   },
   "source": [
    "### **Adding New Feature**"
   ]
  },
  {
   "cell_type": "code",
   "execution_count": 68,
   "metadata": {
    "colab": {},
    "colab_type": "code",
    "id": "elhqQ5BuVjHr"
   },
   "outputs": [],
   "source": [
    "feature[\"Combination\"] = (feature[\"Income\"]/12)**feature[\"CCAvg\"]"
   ]
  },
  {
   "cell_type": "markdown",
   "metadata": {
    "colab_type": "text",
    "id": "TZLbBtGcxWB5"
   },
   "source": [
    "### **Feature Scaling**\n"
   ]
  },
  {
   "cell_type": "code",
   "execution_count": 69,
   "metadata": {
    "colab": {},
    "colab_type": "code",
    "id": "_VNRlK40VoqJ"
   },
   "outputs": [],
   "source": [
    "scaler = StandardScaler();\n",
    "\n",
    "\n",
    "\n",
    "colscal=[\"Experience\",\"Mortgage\",\"Income\",\"CCAvg\",\"Combination\"]\n",
    "\n",
    "scaler.fit(feature[colscal])\n",
    "scaled_features = pd.DataFrame(scaler.transform(feature[colscal]),columns=colscal)\n",
    "\n",
    "feature =feature.drop(colscal,axis=1)\n",
    "feature = scaled_features.join(feature)"
   ]
  },
  {
   "cell_type": "markdown",
   "metadata": {
    "colab_type": "text",
    "id": "t1qa6GwRxtXq"
   },
   "source": [
    "## **Train-Test Split of Data**"
   ]
  },
  {
   "cell_type": "code",
   "execution_count": 70,
   "metadata": {
    "colab": {},
    "colab_type": "code",
    "id": "2uMcX5P4VuTS"
   },
   "outputs": [],
   "source": [
    "X_train, X_test, y_train, y_test = train_test_split(feature,target,\n",
    "                                                    test_size=0.30,\n",
    "                                                    random_state=101)"
   ]
  },
  {
   "cell_type": "code",
   "execution_count": 71,
   "metadata": {
    "colab": {
     "base_uri": "https://localhost:8080/",
     "height": 68
    },
    "colab_type": "code",
    "id": "mroy9mEIVw8r",
    "outputId": "949689fe-0164-4fc3-ec73-7769888fc8a9"
   },
   "outputs": [
    {
     "data": {
      "text/plain": [
       "0    3166\n",
       "1     334\n",
       "Name: Personal Loan, dtype: int64"
      ]
     },
     "execution_count": 71,
     "metadata": {
      "tags": []
     },
     "output_type": "execute_result"
    }
   ],
   "source": [
    "y_train.value_counts()"
   ]
  },
  {
   "cell_type": "markdown",
   "metadata": {
    "colab_type": "text",
    "id": "pKe9h60pyCDx"
   },
   "source": [
    "## **Applying Logistic Regression Model**"
   ]
  },
  {
   "cell_type": "code",
   "execution_count": 72,
   "metadata": {
    "colab": {
     "base_uri": "https://localhost:8080/",
     "height": 102
    },
    "colab_type": "code",
    "id": "sehWad9CV2W0",
    "outputId": "fa68324a-f18e-4858-b673-e1b1f7531feb"
   },
   "outputs": [
    {
     "data": {
      "text/plain": [
       "LogisticRegression(C=1.0, class_weight=None, dual=False, fit_intercept=True,\n",
       "                   intercept_scaling=1, l1_ratio=None, max_iter=100,\n",
       "                   multi_class='auto', n_jobs=None, penalty='l2',\n",
       "                   random_state=None, solver='lbfgs', tol=0.0001, verbose=0,\n",
       "                   warm_start=False)"
      ]
     },
     "execution_count": 72,
     "metadata": {
      "tags": []
     },
     "output_type": "execute_result"
    }
   ],
   "source": [
    "logmodel = LogisticRegression()\n",
    "logmodel.fit(X_train,y_train)"
   ]
  },
  {
   "cell_type": "markdown",
   "metadata": {
    "colab_type": "text",
    "id": "Vuc1ohT8yON0"
   },
   "source": [
    "## **Model Evaluation**"
   ]
  },
  {
   "cell_type": "code",
   "execution_count": 73,
   "metadata": {
    "colab": {
     "base_uri": "https://localhost:8080/",
     "height": 323
    },
    "colab_type": "code",
    "id": "rDzEry07V6AO",
    "outputId": "1430dbed-72d2-4010-f3e4-783e536e223b"
   },
   "outputs": [
    {
     "name": "stdout",
     "output_type": "stream",
     "text": [
      "[[1341   13]\n",
      " [  66   80]]\n",
      "              precision    recall  f1-score   support\n",
      "\n",
      "           0       0.95      0.99      0.97      1354\n",
      "           1       0.86      0.55      0.67       146\n",
      "\n",
      "    accuracy                           0.95      1500\n",
      "   macro avg       0.91      0.77      0.82      1500\n",
      "weighted avg       0.94      0.95      0.94      1500\n",
      "\n",
      "Recall Score 0.547945205479452\n",
      "ROC AUC : 0.9553529875963659\n",
      "Accuracy : 0.9473333333333334\n",
      "Matthews Corr_coef : 0.6616939035700475\n",
      "\n",
      "Cross Validation Recall : 0.5989597467209408\n",
      "Cross Validation Roc Auc : 0.9543090219118892\n"
     ]
    }
   ],
   "source": [
    "predict = logmodel.predict(X_test.values)\n",
    "predictProb = logmodel.predict_proba(X_test.values)\n",
    "\n",
    "score1 =cross_val_score(X=X_train,y=y_train,estimator=logmodel,scoring=\"recall\")\n",
    "score2 =cross_val_score(X=X_train,y=y_train,estimator=logmodel,scoring=\"roc_auc\")\n",
    "\n",
    "print(confusion_matrix(y_test, predict))\n",
    "print(classification_report(y_test, predict))\n",
    "print('Recall Score',recall_score(y_test, predict))\n",
    "print('ROC AUC :', roc_auc_score(y_test, predictProb[:,1]))\n",
    "print('Accuracy :',accuracy_score(y_test, predict))\n",
    "print('Matthews Corr_coef :',matthews_corrcoef(y_test, predict))\n",
    "print(\"\\nCross Validation Recall :\",score1.mean())\n",
    "print(\"Cross Validation Roc Auc :\",score2.mean())"
   ]
  },
  {
   "cell_type": "code",
   "execution_count": 74,
   "metadata": {
    "colab": {
     "base_uri": "https://localhost:8080/",
     "height": 408
    },
    "colab_type": "code",
    "id": "1wTgYhNYZomM",
    "outputId": "82ff0374-424c-46c2-b7fc-d6cbc4986600"
   },
   "outputs": [
    {
     "name": "stdout",
     "output_type": "stream",
     "text": [
      "[[0.93333333 0.95555556 0.95555556 0.95555556 0.95555556 0.95555556\n",
      "  0.95555556 0.95555556 0.95555556 0.95555556]\n",
      " [0.94814815 0.9537037  0.95740741 0.95740741 0.95740741 0.95740741\n",
      "  0.95740741 0.95740741 0.95740741 0.95740741]\n",
      " [0.94782609 0.9468599  0.95458937 0.95362319 0.95362319 0.95362319\n",
      "  0.95362319 0.95362319 0.95362319 0.95362319]\n",
      " [0.94640523 0.94705882 0.94901961 0.9496732  0.9496732  0.9496732\n",
      "  0.9496732  0.9496732  0.9496732  0.9496732 ]\n",
      " [0.94567901 0.94814815 0.94864198 0.94962963 0.94765432 0.94617284\n",
      "  0.94617284 0.94617284 0.94617284 0.94617284]\n",
      " [0.94603175 0.9484127  0.94761905 0.94722222 0.94722222 0.9484127\n",
      "  0.94722222 0.94722222 0.94722222 0.94722222]\n",
      " [0.94527363 0.94726368 0.94660033 0.94626866 0.94693201 0.94693201\n",
      "  0.94859038 0.94792703 0.94792703 0.94792703]\n",
      " [0.94415954 0.94472934 0.94529915 0.94558405 0.94444444 0.94643875\n",
      "  0.94501425 0.94786325 0.94672365 0.94672365]\n",
      " [0.94681648 0.94756554 0.94656679 0.94806492 0.94681648 0.94806492\n",
      "  0.94756554 0.94881398 0.94606742 0.94581773]\n",
      " [0.94622222 0.94644444 0.94688889 0.948      0.94622222 0.948\n",
      "  0.94755556 0.94866667 0.94488889 0.94777778]]\n",
      "[0.95333333 0.95611111 0.95246377 0.94901961 0.94706173 0.94738095\n",
      " 0.94716418 0.94569801 0.94721598 0.94706667]\n",
      "[  45  540 1035 1530 2025 2520 3015 3510 4005 4500]\n"
     ]
    }
   ],
   "source": [
    "\n",
    "train_sizes, train_scores, test_scores = learning_curve(estimator=logmodel,\n",
    "                                                       X=feature,\n",
    "                                                       y=target,\n",
    "                                                       train_sizes=np.linspace(0.01, 1.0, 10),\n",
    "                                                       cv=10)\n",
    "\n",
    "print(train_scores)\n",
    "# Mean value of accuracy against training data\n",
    "train_mean = np.mean(train_scores, axis=1)\n",
    "print(train_mean)\n",
    "print(train_sizes)\n",
    "# Standard deviation of training accuracy per number of training samples\n",
    "train_std = np.std(train_scores, axis=1)\n",
    "\n",
    "# Same as above for test data\n",
    "test_mean = np.mean(test_scores, axis=1)\n",
    "test_std = np.std(test_scores, axis=1)\n"
   ]
  },
  {
   "cell_type": "code",
   "execution_count": 75,
   "metadata": {
    "colab": {
     "base_uri": "https://localhost:8080/",
     "height": 295
    },
    "colab_type": "code",
    "id": "biIW2cMkaASA",
    "outputId": "c1662c6e-9324-4a56-ce70-79bf2d8dfef7"
   },
   "outputs": [
    {
     "data": {
      "image/png": "[encoded data removed]",
      "text/plain": [
       "<Figure size 432x288 with 1 Axes>"
      ]
     },
     "metadata": {
      "needs_background": "light",
      "tags": []
     },
     "output_type": "display_data"
    }
   ],
   "source": [
    "# Plot training accuracies \n",
    "plt.plot(train_sizes, train_mean, color='red', marker='o', label='Training Accuracy')\n",
    "# Plot the variance of training accuracies\n",
    "plt.fill_between(train_sizes,\n",
    "                train_mean + train_std,\n",
    "                train_mean - train_std,\n",
    "                alpha=0.15, color='red')\n",
    "\n",
    "# Plot for test data as training data\n",
    "plt.plot(train_sizes, test_mean, color='blue', linestyle='--', marker='s', \n",
    "        label='Test Accuracy')\n",
    "plt.fill_between(train_sizes,\n",
    "                test_mean + test_std,\n",
    "                test_mean - test_std,\n",
    "                alpha=0.15, color='blue')\n",
    "\n",
    "plt.xlabel('Number of training samples')\n",
    "plt.ylabel('Accuracy')\n",
    "plt.legend()\n",
    "plt.title(\"Train and Test Accuracy Comparison\")\n",
    "plt.show()"
   ]
  },
  {
   "cell_type": "markdown",
   "metadata": {
    "colab_type": "text",
    "id": "0C8dwywQy6SX"
   },
   "source": [
    "## **Building various other classification Algorithms and its comparison.**"
   ]
  },
  {
   "cell_type": "markdown",
   "metadata": {
    "colab_type": "text",
    "id": "T4LOH9cCzCP9"
   },
   "source": [
    "### **XGBClassifier model**"
   ]
  },
  {
   "cell_type": "code",
   "execution_count": 76,
   "metadata": {
    "colab": {
     "base_uri": "https://localhost:8080/",
     "height": 136
    },
    "colab_type": "code",
    "id": "E20BG6WkaLUd",
    "outputId": "2d6532fa-997b-4efb-e3e2-ce8e1e780b81"
   },
   "outputs": [
    {
     "data": {
      "text/plain": [
       "XGBClassifier(base_score=0.5, booster='gbtree', colsample_bylevel=1,\n",
       "              colsample_bynode=1, colsample_bytree=1, gamma=0,\n",
       "              learning_rate=0.1, max_delta_step=0, max_depth=3,\n",
       "              min_child_weight=1, missing=None, n_estimators=100, n_jobs=1,\n",
       "              nthread=None, objective='binary:logistic', random_state=101,\n",
       "              reg_alpha=0, reg_lambda=1, scale_pos_weight=1, seed=None,\n",
       "              silent=None, subsample=1, verbosity=1)"
      ]
     },
     "execution_count": 76,
     "metadata": {
      "tags": []
     },
     "output_type": "execute_result"
    }
   ],
   "source": [
    "xgb = XGBClassifier(random_state=101)\n",
    "xgb.fit(X_train, y_train)"
   ]
  },
  {
   "cell_type": "markdown",
   "metadata": {
    "colab_type": "text",
    "id": "tgAjOGvZzOt9"
   },
   "source": [
    "**XGBClassifier model with imbalance dataset evaluation**\n"
   ]
  },
  {
   "cell_type": "code",
   "execution_count": 77,
   "metadata": {
    "colab": {
     "base_uri": "https://localhost:8080/",
     "height": 374
    },
    "colab_type": "code",
    "id": "eR19QlapaQeQ",
    "outputId": "f8d12e47-ea6e-4918-9306-999c6984dc00"
   },
   "outputs": [
    {
     "name": "stdout",
     "output_type": "stream",
     "text": [
      "confusion_matrix :\n",
      " [[1345    9]\n",
      " [  10  136]]\n",
      "\n",
      "classification_report :\n",
      "               precision    recall  f1-score   support\n",
      "\n",
      "           0       0.99      0.99      0.99      1354\n",
      "           1       0.94      0.93      0.93       146\n",
      "\n",
      "    accuracy                           0.99      1500\n",
      "   macro avg       0.97      0.96      0.96      1500\n",
      "weighted avg       0.99      0.99      0.99      1500\n",
      "\n",
      "Recall Score 0.9315068493150684\n",
      "ROC AUC : 0.9972633091196049\n",
      "Accuracy : 0.9873333333333333\n",
      "Matthews Corr_coef : 0.9277010549699034\n",
      "\n",
      "Cross Validation Recall : 0.9013568521031207\n",
      "Cross Validation Roc Auc : 0.9963409425742089\n"
     ]
    }
   ],
   "source": [
    "predict = xgb.predict(X_test)\n",
    "predictProb = xgb.predict_proba(X_test)\n",
    "\n",
    "score1 =cross_val_score(X=X_train,y=y_train,estimator=xgb,scoring=\"recall\")\n",
    "score2 =cross_val_score(X=X_train,y=y_train,estimator=xgb,scoring=\"roc_auc\")\n",
    "\n",
    "print(\"confusion_matrix :\\n\",confusion_matrix(y_test, predict))\n",
    "print(\"\\nclassification_report :\\n\",classification_report(y_test, predict))\n",
    "print('Recall Score',recall_score(y_test, predict))\n",
    "print('ROC AUC :', roc_auc_score(y_test, predictProb[:,1]))\n",
    "print('Accuracy :',accuracy_score(y_test, predict))\n",
    "print('Matthews Corr_coef :',matthews_corrcoef(y_test, predict))\n",
    "print(\"\\nCross Validation Recall :\",score1.mean())\n",
    "print(\"Cross Validation Roc Auc :\",score2.mean())"
   ]
  },
  {
   "cell_type": "code",
   "execution_count": 78,
   "metadata": {
    "colab": {
     "base_uri": "https://localhost:8080/",
     "height": 71
    },
    "colab_type": "code",
    "id": "QZy65hI8zUQZ",
    "outputId": "0cfb866d-e154-44ce-dbbf-438e698307e2"
   },
   "outputs": [
    {
     "name": "stderr",
     "output_type": "stream",
     "text": [
      "/usr/local/lib/python3.6/dist-packages/sklearn/utils/deprecation.py:87: FutureWarning: Function safe_indexing is deprecated; safe_indexing is deprecated in version 0.22 and will be removed in version 0.24.\n",
      "  warnings.warn(msg, category=FutureWarning)\n"
     ]
    }
   ],
   "source": [
    "\n",
    "\n",
    "ros = RandomOverSampler(random_state=101)\n",
    "\n",
    "X_ros, y_ros = ros.fit_sample(X_train, y_train)"
   ]
  },
  {
   "cell_type": "code",
   "execution_count": 79,
   "metadata": {
    "colab": {
     "base_uri": "https://localhost:8080/",
     "height": 68
    },
    "colab_type": "code",
    "id": "5orseXx1zZJ4",
    "outputId": "296b1ec3-4887-4420-be37-fba0a21a4937"
   },
   "outputs": [
    {
     "data": {
      "text/plain": [
       "1    3166\n",
       "0    3166\n",
       "dtype: int64"
      ]
     },
     "execution_count": 79,
     "metadata": {
      "tags": []
     },
     "output_type": "execute_result"
    }
   ],
   "source": [
    "pd.Series(y_ros).value_counts()"
   ]
  },
  {
   "cell_type": "code",
   "execution_count": 80,
   "metadata": {
    "colab": {
     "base_uri": "https://localhost:8080/",
     "height": 136
    },
    "colab_type": "code",
    "id": "768R4cYczbfC",
    "outputId": "127436a3-550e-41f0-eddf-4867abaf6b40"
   },
   "outputs": [
    {
     "data": {
      "text/plain": [
       "XGBClassifier(base_score=0.5, booster='gbtree', colsample_bylevel=1,\n",
       "              colsample_bynode=1, colsample_bytree=1, gamma=0,\n",
       "              learning_rate=0.1, max_delta_step=0, max_depth=3,\n",
       "              min_child_weight=1, missing=None, n_estimators=97, n_jobs=1,\n",
       "              nthread=None, objective='binary:logistic', random_state=101,\n",
       "              reg_alpha=0, reg_lambda=1, scale_pos_weight=1, seed=None,\n",
       "              silent=None, subsample=1, verbosity=1)"
      ]
     },
     "execution_count": 80,
     "metadata": {
      "tags": []
     },
     "output_type": "execute_result"
    }
   ],
   "source": [
    "xgb = XGBClassifier(n_estimators=97,random_state=101)\n",
    "xgb.fit(X_ros, y_ros)"
   ]
  },
  {
   "cell_type": "markdown",
   "metadata": {
    "colab_type": "text",
    "id": "osiMC7YlzgZV"
   },
   "source": [
    "**XGBClassifier model with balance dataset (train evaluation)**"
   ]
  },
  {
   "cell_type": "code",
   "execution_count": 81,
   "metadata": {
    "colab": {
     "base_uri": "https://localhost:8080/",
     "height": 374
    },
    "colab_type": "code",
    "id": "gtN_33buzduR",
    "outputId": "8219c888-2cd2-4004-daf9-a6e026eec94d"
   },
   "outputs": [
    {
     "name": "stdout",
     "output_type": "stream",
     "text": [
      "confusion_matrix :\n",
      " [[3110   56]\n",
      " [   1  333]]\n",
      "\n",
      "classification_report :\n",
      "               precision    recall  f1-score   support\n",
      "\n",
      "           0       1.00      0.98      0.99      3166\n",
      "           1       0.86      1.00      0.92       334\n",
      "\n",
      "    accuracy                           0.98      3500\n",
      "   macro avg       0.93      0.99      0.96      3500\n",
      "weighted avg       0.99      0.98      0.98      3500\n",
      "\n",
      "Recall Score 0.9970059880239521\n",
      "ROC AUC : 0.9994429965085622\n",
      "Accuracy : 0.9837142857142858\n",
      "Matthews Corr_coef : 0.9154352748144228\n",
      "\n",
      "Cross Validation Recall : 0.9013568521031207\n",
      "Cross Validation Roc Auc : 0.996426081813176\n"
     ]
    }
   ],
   "source": [
    "predict = xgb.predict(X_train.values)\n",
    "predictProb = xgb.predict_proba(X_train.values)\n",
    "\n",
    "score1 =cross_val_score(X=X_train,y=y_train,estimator=xgb,scoring=\"recall\")\n",
    "score2 =cross_val_score(X=X_train,y=y_train,estimator=xgb,scoring=\"roc_auc\")\n",
    "\n",
    "print(\"confusion_matrix :\\n\",confusion_matrix(y_train, predict))\n",
    "print(\"\\nclassification_report :\\n\",classification_report(y_train, predict))\n",
    "print('Recall Score',recall_score(y_train, predict))\n",
    "print('ROC AUC :', roc_auc_score(y_train, predictProb[:,1]))\n",
    "print('Accuracy :',accuracy_score(y_train, predict))\n",
    "print('Matthews Corr_coef :',matthews_corrcoef(y_train, predict))\n",
    "print(\"\\nCross Validation Recall :\",score1.mean())\n",
    "print(\"Cross Validation Roc Auc :\",score2.mean())"
   ]
  },
  {
   "cell_type": "markdown",
   "metadata": {
    "colab_type": "text",
    "id": "F6izD3eizolN"
   },
   "source": [
    "**XGBClassifier model with balance dataset (test evaluation)**"
   ]
  },
  {
   "cell_type": "code",
   "execution_count": 82,
   "metadata": {
    "colab": {
     "base_uri": "https://localhost:8080/",
     "height": 374
    },
    "colab_type": "code",
    "id": "_Dmr3qFXzkLT",
    "outputId": "1c3aaf41-2467-4a06-eab5-3885d974442d"
   },
   "outputs": [
    {
     "name": "stdout",
     "output_type": "stream",
     "text": [
      "confusion_matrix :\n",
      " [[1330   24]\n",
      " [   3  143]]\n",
      "\n",
      "classification_report :\n",
      "               precision    recall  f1-score   support\n",
      "\n",
      "           0       1.00      0.98      0.99      1354\n",
      "           1       0.86      0.98      0.91       146\n",
      "\n",
      "    accuracy                           0.98      1500\n",
      "   macro avg       0.93      0.98      0.95      1500\n",
      "weighted avg       0.98      0.98      0.98      1500\n",
      "\n",
      "Recall Score 0.9794520547945206\n",
      "ROC AUC : 0.9974960037231136\n",
      "Accuracy : 0.982\n",
      "Matthews Corr_coef : 0.9062836949343842\n",
      "\n",
      "Cross Validation Recall : 0.9013568521031207\n",
      "Cross Validation Roc Auc : 0.996426081813176\n"
     ]
    }
   ],
   "source": [
    "predict = xgb.predict(X_test.values)\n",
    "predictProb = xgb.predict_proba(X_test.values)\n",
    "\n",
    "score1 =cross_val_score(X=X_train,y=y_train,estimator=xgb,scoring=\"recall\")\n",
    "score2 =cross_val_score(X=X_train,y=y_train,estimator=xgb,scoring=\"roc_auc\")\n",
    "\n",
    "print(\"confusion_matrix :\\n\",confusion_matrix(y_test, predict))\n",
    "print(\"\\nclassification_report :\\n\",classification_report(y_test, predict))\n",
    "print('Recall Score',recall_score(y_test, predict))\n",
    "print('ROC AUC :', roc_auc_score(y_test, predictProb[:,1]))\n",
    "print('Accuracy :',accuracy_score(y_test, predict))\n",
    "print('Matthews Corr_coef :',matthews_corrcoef(y_test, predict))\n",
    "print(\"\\nCross Validation Recall :\",score1.mean())\n",
    "print(\"Cross Validation Roc Auc :\",score2.mean())"
   ]
  },
  {
   "cell_type": "code",
   "execution_count": 83,
   "metadata": {
    "colab": {
     "base_uri": "https://localhost:8080/",
     "height": 408
    },
    "colab_type": "code",
    "id": "YYraB0jbztUl",
    "outputId": "8b4b3e32-50b7-4c8d-8fce-9a8398a726a4"
   },
   "outputs": [
    {
     "name": "stdout",
     "output_type": "stream",
     "text": [
      "[[1.         1.         1.         1.         1.         1.\n",
      "  1.         1.         1.         1.        ]\n",
      " [0.99814815 0.99444444 0.99444444 0.99444444 0.99444444 0.99444444\n",
      "  0.99444444 0.99444444 0.99444444 0.99444444]\n",
      " [0.99516908 0.99130435 0.99516908 0.9942029  0.9942029  0.9942029\n",
      "  0.9942029  0.9942029  0.9942029  0.9942029 ]\n",
      " [0.99281046 0.99477124 0.99673203 0.99346405 0.99215686 0.99215686\n",
      "  0.99215686 0.99215686 0.99215686 0.99215686]\n",
      " [0.99111111 0.99259259 0.99358025 0.99209877 0.99358025 0.99308642\n",
      "  0.99308642 0.99308642 0.99308642 0.99308642]\n",
      " [0.99047619 0.99325397 0.98928571 0.99246032 0.99166667 0.99126984\n",
      "  0.99166667 0.99166667 0.99166667 0.99166667]\n",
      " [0.9893864  0.9920398  0.99104478 0.99270315 0.9920398  0.9907131\n",
      "  0.99104478 0.98839138 0.98839138 0.98839138]\n",
      " [0.99088319 0.99259259 0.99202279 0.99145299 0.99230769 0.99173789\n",
      "  0.99145299 0.99059829 0.99031339 0.99031339]\n",
      " [0.99101124 0.99275905 0.9937578  0.99275905 0.99250936 0.99126092\n",
      "  0.99200999 0.99026217 0.99076155 0.99076155]\n",
      " [0.99133333 0.99244444 0.99133333 0.99155556 0.99177778 0.99\n",
      "  0.99222222 0.99066667 0.99       0.99155556]]\n",
      "[1.         0.99481481 0.99410628 0.9930719  0.99283951 0.99150794\n",
      " 0.99041459 0.99136752 0.99178527 0.99128889]\n",
      "[  45  540 1035 1530 2025 2520 3015 3510 4005 4500]\n"
     ]
    }
   ],
   "source": [
    "\n",
    "\n",
    "train_sizes, train_scores, test_scores = learning_curve(estimator=xgb,\n",
    "                                                       X=feature,\n",
    "                                                       y=target,\n",
    "                                                       train_sizes=np.linspace(0.01, 1.0, 10),\n",
    "                                                       cv=10)\n",
    "\n",
    "print(train_scores)\n",
    "# Mean value of accuracy against training data\n",
    "train_mean = np.mean(train_scores, axis=1)\n",
    "print(train_mean)\n",
    "print(train_sizes)\n",
    "# Standard deviation of training accuracy per number of training samples\n",
    "train_std = np.std(train_scores, axis=1)\n",
    "\n",
    "# Same as above for test data\n",
    "test_mean = np.mean(test_scores, axis=1)\n",
    "test_std = np.std(test_scores, axis=1)"
   ]
  },
  {
   "cell_type": "code",
   "execution_count": 84,
   "metadata": {
    "colab": {
     "base_uri": "https://localhost:8080/",
     "height": 295
    },
    "colab_type": "code",
    "id": "HAzrup0FzwWl",
    "outputId": "2f7ee7ea-a6d5-49b3-b110-a3a15d67d1cb"
   },
   "outputs": [
    {
     "data": {
      "image/png": "[encoded data removed]",
      "text/plain": [
       "<Figure size 432x288 with 1 Axes>"
      ]
     },
     "metadata": {
      "needs_background": "light",
      "tags": []
     },
     "output_type": "display_data"
    }
   ],
   "source": [
    "# Plot training accuracies \n",
    "plt.plot(train_sizes, train_mean, color='red', marker='o', label='Training Accuracy')\n",
    "# Plot the variance of training accuracies\n",
    "plt.fill_between(train_sizes,\n",
    "                train_mean + train_std,\n",
    "                train_mean - train_std,\n",
    "                alpha=0.15, color='red')\n",
    "\n",
    "# Plot for test data as training data\n",
    "plt.plot(train_sizes, test_mean, color='blue', linestyle='--', marker='s', \n",
    "        label='Test Accuracy')\n",
    "plt.fill_between(train_sizes,\n",
    "                test_mean + test_std,\n",
    "                test_mean - test_std,\n",
    "                alpha=0.15, color='blue')\n",
    "\n",
    "plt.xlabel('Number of training samples')\n",
    "plt.ylabel('Accuracy')\n",
    "plt.legend()\n",
    "plt.title(\"Train and Test Accuracy Comparison\")\n",
    "plt.show()"
   ]
  },
  {
   "cell_type": "code",
   "execution_count": 85,
   "metadata": {
    "colab": {
     "base_uri": "https://localhost:8080/",
     "height": 381
    },
    "colab_type": "code",
    "id": "4UIWI5S6z114",
    "outputId": "4e6f284c-8d79-4b8c-9839-240142feb373"
   },
   "outputs": [
    {
     "data": {
      "text/plain": [
       "<matplotlib.axes._subplots.AxesSubplot at 0x7fef9cb2e978>"
      ]
     },
     "execution_count": 85,
     "metadata": {
      "tags": []
     },
     "output_type": "execute_result"
    },
    {
     "data": {
      "image/png": "[encoded data removed]",
      "text/plain": [
       "<Figure size 432x288 with 1 Axes>"
      ]
     },
     "metadata": {
      "needs_background": "light",
      "tags": []
     },
     "output_type": "display_data"
    }
   ],
   "source": [
    "coef1 = pd.Series(xgb.feature_importances_,feature.columns).sort_values(ascending=False)\n",
    "\n",
    "pd.DataFrame(coef1,columns=[\"Features\"]).transpose().plot(kind=\"bar\",title=\"Feature Importances\") #for the legends\n",
    "\n",
    "coef1.plot(kind=\"bar\",title=\"Feature Importances\")"
   ]
  },
  {
   "cell_type": "markdown",
   "metadata": {
    "colab_type": "text",
    "id": "3hv5Hmnb0akF"
   },
   "source": [
    "### **Decision Tree**"
   ]
  },
  {
   "cell_type": "code",
   "execution_count": 86,
   "metadata": {
    "colab": {
     "base_uri": "https://localhost:8080/",
     "height": 119
    },
    "colab_type": "code",
    "id": "2MeISB0Mz9UN",
    "outputId": "b67e0d2a-75a6-4cf7-b326-5d6d0b9648a6"
   },
   "outputs": [
    {
     "data": {
      "text/plain": [
       "DecisionTreeClassifier(ccp_alpha=0.0, class_weight=None, criterion='gini',\n",
       "                       max_depth=None, max_features=None, max_leaf_nodes=None,\n",
       "                       min_impurity_decrease=0.0, min_impurity_split=None,\n",
       "                       min_samples_leaf=10, min_samples_split=2,\n",
       "                       min_weight_fraction_leaf=0.0, presort='deprecated',\n",
       "                       random_state=None, splitter='best')"
      ]
     },
     "execution_count": 86,
     "metadata": {
      "tags": []
     },
     "output_type": "execute_result"
    }
   ],
   "source": [
    "\n",
    "dtree = DecisionTreeClassifier(min_samples_leaf=10)\n",
    "dtree.fit(X_ros,y_ros)"
   ]
  },
  {
   "cell_type": "code",
   "execution_count": 87,
   "metadata": {
    "colab": {
     "base_uri": "https://localhost:8080/",
     "height": 374
    },
    "colab_type": "code",
    "id": "q9_hQMmc0g-S",
    "outputId": "a1a51a6b-da7e-45f8-942c-d58422c6a737"
   },
   "outputs": [
    {
     "name": "stdout",
     "output_type": "stream",
     "text": [
      "confusion_matrix :\n",
      " [[1333   21]\n",
      " [   8  138]]\n",
      "\n",
      "classification_report :\n",
      "               precision    recall  f1-score   support\n",
      "\n",
      "           0       0.99      0.98      0.99      1354\n",
      "           1       0.87      0.95      0.90       146\n",
      "\n",
      "    accuracy                           0.98      1500\n",
      "   macro avg       0.93      0.96      0.95      1500\n",
      "weighted avg       0.98      0.98      0.98      1500\n",
      "\n",
      "Recall Score 0.9452054794520548\n",
      "ROC AUC : 0.9805750591853666\n",
      "Accuracy : 0.9806666666666667\n",
      "Matthews Corr_coef : 0.8951868924845687\n",
      "\n",
      "Cross Validation Recall : 0.9013568521031207\n",
      "Cross Validation Roc Auc : 0.996426081813176\n"
     ]
    }
   ],
   "source": [
    "predict = dtree.predict(X_test.values)\n",
    "predictProb = dtree.predict_proba(X_test.values)\n",
    "\n",
    "score1 =cross_val_score(X=X_train,y=y_train,estimator=xgb,scoring=\"recall\")\n",
    "score2 =cross_val_score(X=X_train,y=y_train,estimator=xgb,scoring=\"roc_auc\")\n",
    "\n",
    "print(\"confusion_matrix :\\n\",confusion_matrix(y_test, predict))\n",
    "print(\"\\nclassification_report :\\n\",classification_report(y_test, predict))\n",
    "print('Recall Score',recall_score(y_test, predict))\n",
    "print('ROC AUC :', roc_auc_score(y_test, predictProb[:,1]))\n",
    "print('Accuracy :',accuracy_score(y_test, predict))\n",
    "print('Matthews Corr_coef :',matthews_corrcoef(y_test, predict))\n",
    "print(\"\\nCross Validation Recall :\",score1.mean())\n",
    "print(\"Cross Validation Roc Auc :\",score2.mean())\n"
   ]
  },
  {
   "cell_type": "markdown",
   "metadata": {
    "colab_type": "text",
    "id": "j631v0zw0lwU"
   },
   "source": [
    "### **Random Forest Classifier**"
   ]
  },
  {
   "cell_type": "code",
   "execution_count": 88,
   "metadata": {
    "colab": {
     "base_uri": "https://localhost:8080/",
     "height": 153
    },
    "colab_type": "code",
    "id": "7GY8W0ny0jHF",
    "outputId": "214e254b-82d6-46e9-dff4-d89b750ad556"
   },
   "outputs": [
    {
     "data": {
      "text/plain": [
       "RandomForestClassifier(bootstrap=True, ccp_alpha=0.0, class_weight=None,\n",
       "                       criterion='gini', max_depth=250, max_features='auto',\n",
       "                       max_leaf_nodes=50, max_samples=None,\n",
       "                       min_impurity_decrease=0.0, min_impurity_split=None,\n",
       "                       min_samples_leaf=1, min_samples_split=2,\n",
       "                       min_weight_fraction_leaf=0.0, n_estimators=101,\n",
       "                       n_jobs=None, oob_score=False, random_state=101,\n",
       "                       verbose=0, warm_start=False)"
      ]
     },
     "execution_count": 88,
     "metadata": {
      "tags": []
     },
     "output_type": "execute_result"
    }
   ],
   "source": [
    "\n",
    "rfc = RandomForestClassifier(n_estimators=101,max_depth=250,max_leaf_nodes=50,random_state=101)\n",
    "rfc.fit(X_ros,y_ros)"
   ]
  },
  {
   "cell_type": "code",
   "execution_count": 89,
   "metadata": {
    "colab": {
     "base_uri": "https://localhost:8080/",
     "height": 374
    },
    "colab_type": "code",
    "id": "tjrCw9jG0q5C",
    "outputId": "a28eca87-7c87-4427-d6df-8081faf79b89"
   },
   "outputs": [
    {
     "name": "stdout",
     "output_type": "stream",
     "text": [
      "confusion_matrix :\n",
      " [[3134   32]\n",
      " [   1  333]]\n",
      "\n",
      "classification_report :\n",
      "               precision    recall  f1-score   support\n",
      "\n",
      "           0       1.00      0.99      0.99      3166\n",
      "           1       0.91      1.00      0.95       334\n",
      "\n",
      "    accuracy                           0.99      3500\n",
      "   macro avg       0.96      0.99      0.97      3500\n",
      "weighted avg       0.99      0.99      0.99      3500\n",
      "\n",
      "Recall Score 0.9970059880239521\n",
      "ROC AUC : 0.999878953400842\n",
      "Accuracy : 0.9905714285714285\n",
      "Matthews Corr_coef : 0.9487155422364748\n",
      "\n",
      "Cross Validation Recall : 0.9013568521031207\n",
      "Cross Validation Roc Auc : 0.996426081813176\n"
     ]
    }
   ],
   "source": [
    "predict = rfc.predict(X_train.values)\n",
    "predictProb = rfc.predict_proba(X_train.values)\n",
    "\n",
    "score1 =cross_val_score(X=X_train,y=y_train,estimator=xgb,scoring=\"recall\")\n",
    "score2 =cross_val_score(X=X_train,y=y_train,estimator=xgb,scoring=\"roc_auc\")\n",
    "\n",
    "print(\"confusion_matrix :\\n\",confusion_matrix(y_train, predict))\n",
    "print(\"\\nclassification_report :\\n\",classification_report(y_train, predict))\n",
    "print('Recall Score',recall_score(y_train, predict))\n",
    "print('ROC AUC :', roc_auc_score(y_train, predictProb[:,1]))\n",
    "print('Accuracy :',accuracy_score(y_train, predict))\n",
    "print('Matthews Corr_coef :',matthews_corrcoef(y_train, predict))\n",
    "print(\"\\nCross Validation Recall :\",score1.mean())\n",
    "print(\"Cross Validation Roc Auc :\",score2.mean())"
   ]
  },
  {
   "cell_type": "code",
   "execution_count": 90,
   "metadata": {
    "colab": {
     "base_uri": "https://localhost:8080/",
     "height": 374
    },
    "colab_type": "code",
    "id": "OkLp2clo0ubg",
    "outputId": "e824c187-6af8-46a8-c6c6-7acc9c004276"
   },
   "outputs": [
    {
     "name": "stdout",
     "output_type": "stream",
     "text": [
      "confusion_matrix :\n",
      " [[1337   17]\n",
      " [   4  142]]\n",
      "\n",
      "classification_report :\n",
      "               precision    recall  f1-score   support\n",
      "\n",
      "           0       1.00      0.99      0.99      1354\n",
      "           1       0.89      0.97      0.93       146\n",
      "\n",
      "    accuracy                           0.99      1500\n",
      "   macro avg       0.95      0.98      0.96      1500\n",
      "weighted avg       0.99      0.99      0.99      1500\n",
      "\n",
      "Recall Score 0.9726027397260274\n",
      "ROC AUC : 0.9968232128042736\n",
      "Accuracy : 0.986\n",
      "Matthews Corr_coef : 0.9244117592040545\n",
      "\n",
      "Cross Validation Recall : 0.9013568521031207\n",
      "Cross Validation Roc Auc : 0.996426081813176\n"
     ]
    }
   ],
   "source": [
    "predict = rfc.predict(X_test.values)\n",
    "predictProb = rfc.predict_proba(X_test.values)\n",
    "\n",
    "score1 =cross_val_score(X=X_train,y=y_train,estimator=xgb,scoring=\"recall\")\n",
    "score2 =cross_val_score(X=X_train,y=y_train,estimator=xgb,scoring=\"roc_auc\")\n",
    "\n",
    "print(\"confusion_matrix :\\n\",confusion_matrix(y_test, predict))\n",
    "print(\"\\nclassification_report :\\n\",classification_report(y_test, predict))\n",
    "print('Recall Score',recall_score(y_test, predict))\n",
    "print('ROC AUC :', roc_auc_score(y_test, predictProb[:,1]))\n",
    "print('Accuracy :',accuracy_score(y_test, predict))\n",
    "print('Matthews Corr_coef :',matthews_corrcoef(y_test, predict))\n",
    "print(\"\\nCross Validation Recall :\",score1.mean())\n",
    "print(\"Cross Validation Roc Auc :\",score2.mean())"
   ]
  },
  {
   "cell_type": "code",
   "execution_count": 91,
   "metadata": {
    "colab": {
     "base_uri": "https://localhost:8080/",
     "height": 408
    },
    "colab_type": "code",
    "id": "UTi8hHpl0xoF",
    "outputId": "d4c1c94e-8e22-4635-acc9-a99cd6db7de6"
   },
   "outputs": [
    {
     "name": "stdout",
     "output_type": "stream",
     "text": [
      "[[1.         1.         1.         1.         1.         1.\n",
      "  1.         1.         1.         1.        ]\n",
      " [1.         1.         1.         1.         1.         1.\n",
      "  1.         1.         1.         1.        ]\n",
      " [1.         1.         1.         1.         1.         1.\n",
      "  1.         1.         1.         1.        ]\n",
      " [1.         0.99934641 1.         1.         1.         1.\n",
      "  1.         1.         1.         1.        ]\n",
      " [0.99802469 0.99654321 0.99901235 0.99555556 0.99802469 0.99802469\n",
      "  0.99802469 0.99802469 0.99802469 0.99802469]\n",
      " [0.99642857 0.99563492 0.99642857 0.99603175 0.99642857 0.99444444\n",
      "  0.99642857 0.99642857 0.99642857 0.99642857]\n",
      " [0.9946932  0.99369818 0.9946932  0.99402985 0.9946932  0.9933665\n",
      "  0.99402985 0.99436153 0.99436153 0.99436153]\n",
      " [0.99458689 0.99487179 0.9951567  0.99458689 0.99430199 0.99287749\n",
      "  0.99487179 0.99344729 0.99316239 0.99316239]\n",
      " [0.99450687 0.9937578  0.99475655 0.99400749 0.99425718 0.99325843\n",
      "  0.99425718 0.99300874 0.99400749 0.99400749]\n",
      " [0.99355556 0.99311111 0.99355556 0.99311111 0.994      0.99288889\n",
      "  0.99288889 0.99244444 0.99266667 0.99377778]]\n",
      "[1.         1.         1.         0.99993464 0.9977284  0.99611111\n",
      " 0.99422886 0.99410256 0.99398252 0.9932    ]\n",
      "[  45  540 1035 1530 2025 2520 3015 3510 4005 4500]\n"
     ]
    }
   ],
   "source": [
    "\n",
    "\n",
    "train_sizes, train_scores, test_scores = learning_curve(estimator=rfc,\n",
    "                                                       X=feature,\n",
    "                                                       y=target,\n",
    "                                                       train_sizes=np.linspace(0.01, 1.0, 10),\n",
    "                                                       cv=10)\n",
    "\n",
    "print(train_scores)\n",
    "# Mean value of accuracy against training data\n",
    "train_mean = np.mean(train_scores, axis=1)\n",
    "print(train_mean)\n",
    "print(train_sizes)\n",
    "# Standard deviation of training accuracy per number of training samples\n",
    "train_std = np.std(train_scores, axis=1)\n",
    "\n",
    "# Same as above for test data\n",
    "test_mean = np.mean(test_scores, axis=1)\n",
    "test_std = np.std(test_scores, axis=1)"
   ]
  },
  {
   "cell_type": "code",
   "execution_count": 92,
   "metadata": {
    "colab": {
     "base_uri": "https://localhost:8080/",
     "height": 295
    },
    "colab_type": "code",
    "id": "wWedHpeC00Rq",
    "outputId": "be188664-7131-4af7-d8b2-1f768d9642cd"
   },
   "outputs": [
    {
     "data": {
      "image/png": "[encoded data removed]",
      "text/plain": [
       "<Figure size 432x288 with 1 Axes>"
      ]
     },
     "metadata": {
      "needs_background": "light",
      "tags": []
     },
     "output_type": "display_data"
    }
   ],
   "source": [
    "# Plot training accuracies \n",
    "plt.plot(train_sizes, train_mean, color='red', marker='o', label='Training Accuracy')\n",
    "# Plot the variance of training accuracies\n",
    "plt.fill_between(train_sizes,\n",
    "                train_mean + train_std,\n",
    "                train_mean - train_std,\n",
    "                alpha=0.15, color='red')\n",
    "\n",
    "# Plot for test data as training data\n",
    "plt.plot(train_sizes, test_mean, color='blue', linestyle='--', marker='s', \n",
    "        label='Test Accuracy')\n",
    "plt.fill_between(train_sizes,\n",
    "                test_mean + test_std,\n",
    "                test_mean - test_std,\n",
    "                alpha=0.15, color='blue')\n",
    "\n",
    "plt.xlabel('Number of training samples')\n",
    "plt.ylabel('Accuracy')\n",
    "plt.legend()\n",
    "plt.title(\"Train and Test Accuracy Comparison\")\n",
    "plt.show()"
   ]
  },
  {
   "cell_type": "markdown",
   "metadata": {
    "colab_type": "text",
    "id": "_LUR8ZhW04gz"
   },
   "source": [
    "### **KNN**"
   ]
  },
  {
   "cell_type": "code",
   "execution_count": 93,
   "metadata": {
    "colab": {
     "base_uri": "https://localhost:8080/",
     "height": 68
    },
    "colab_type": "code",
    "id": "Z6SDy0DT03Mt",
    "outputId": "2485dd7c-e845-4483-822b-09d94da9f1f7"
   },
   "outputs": [
    {
     "data": {
      "text/plain": [
       "KNeighborsClassifier(algorithm='auto', leaf_size=30, metric='minkowski',\n",
       "                     metric_params=None, n_jobs=None, n_neighbors=3, p=2,\n",
       "                     weights='uniform')"
      ]
     },
     "execution_count": 93,
     "metadata": {
      "tags": []
     },
     "output_type": "execute_result"
    }
   ],
   "source": [
    "knn = KNeighborsClassifier(n_neighbors=3)\n",
    "knn.fit(X_ros,y_ros)"
   ]
  },
  {
   "cell_type": "code",
   "execution_count": 94,
   "metadata": {
    "colab": {
     "base_uri": "https://localhost:8080/",
     "height": 323
    },
    "colab_type": "code",
    "id": "lhxoKX6R0_Sh",
    "outputId": "5340e85a-a7a6-4ee5-db9d-94d2b8c78ab5"
   },
   "outputs": [
    {
     "name": "stdout",
     "output_type": "stream",
     "text": [
      "[[1338   16]\n",
      " [  26  120]]\n",
      "              precision    recall  f1-score   support\n",
      "\n",
      "           0       0.98      0.99      0.98      1354\n",
      "           1       0.88      0.82      0.85       146\n",
      "\n",
      "    accuracy                           0.97      1500\n",
      "   macro avg       0.93      0.91      0.92      1500\n",
      "weighted avg       0.97      0.97      0.97      1500\n",
      "\n",
      "Recall Score 0.821917808219178\n",
      "ROC AUC : 0.9201048137431456\n",
      "Accuracy : 0.972\n",
      "Matthews Corr_coef : 0.8362733796511278\n",
      "\n",
      "Cross Validation Recall : 0.9013568521031207\n",
      "Cross Validation Roc Auc : 0.996426081813176\n"
     ]
    }
   ],
   "source": [
    "predict = knn.predict(X_test.values)\n",
    "predictProb = knn.predict_proba(X_test.values)\n",
    "\n",
    "score1 =cross_val_score(X=X_train,y=y_train,estimator=xgb,scoring=\"recall\")\n",
    "score2 =cross_val_score(X=X_train,y=y_train,estimator=xgb,scoring=\"roc_auc\")\n",
    "\n",
    "print(confusion_matrix(y_test, predict))\n",
    "print(classification_report(y_test, predict))\n",
    "print('Recall Score',recall_score(y_test, predict))\n",
    "print('ROC AUC :', roc_auc_score(y_test, predictProb[:,1]))\n",
    "print('Accuracy :',accuracy_score(y_test, predict))\n",
    "print('Matthews Corr_coef :',matthews_corrcoef(y_test, predict))\n",
    "print(\"\\nCross Validation Recall :\",score1.mean())\n",
    "print(\"Cross Validation Roc Auc :\",score2.mean())"
   ]
  },
  {
   "cell_type": "code",
   "execution_count": 95,
   "metadata": {
    "colab": {},
    "colab_type": "code",
    "id": "IKUaTrWx1CVc"
   },
   "outputs": [],
   "source": [
    "error_rate = []\n",
    "\n",
    "# Will take some time\n",
    "for i in range(1,100):\n",
    "    \n",
    "    knn = KNeighborsClassifier(n_neighbors=i)\n",
    "    knn.fit(X_ros,y_ros)\n",
    "    pred_i = knn.predict(X_test)\n",
    "    error_rate.append(np.mean(pred_i != y_test))"
   ]
  },
  {
   "cell_type": "code",
   "execution_count": 96,
   "metadata": {
    "colab": {
     "base_uri": "https://localhost:8080/",
     "height": 421
    },
    "colab_type": "code",
    "id": "8_alLAaR1Eco",
    "outputId": "86207e31-b715-4c89-dc1f-f821e21953e5"
   },
   "outputs": [
    {
     "data": {
      "text/plain": [
       "Text(0, 0.5, 'Error Rate')"
      ]
     },
     "execution_count": 96,
     "metadata": {
      "tags": []
     },
     "output_type": "execute_result"
    },
    {
     "data": {
      "image/png": "[encoded data removed]",
      "text/plain": [
       "<Figure size 720x432 with 1 Axes>"
      ]
     },
     "metadata": {
      "needs_background": "light",
      "tags": []
     },
     "output_type": "display_data"
    }
   ],
   "source": [
    "plt.figure(figsize=(10,6))\n",
    "plt.plot(range(1,100),error_rate,color='blue', linestyle='dashed', marker='o',\n",
    "         markerfacecolor='red', markersize=10)\n",
    "plt.title('Error Rate vs. K Value')\n",
    "plt.xlabel('K')\n",
    "plt.ylabel('Error Rate')"
   ]
  },
  {
   "cell_type": "markdown",
   "metadata": {
    "colab_type": "text",
    "id": "aYUZtHGU1rLl"
   },
   "source": [
    "### **Neural Network**"
   ]
  },
  {
   "cell_type": "code",
   "execution_count": 97,
   "metadata": {
    "colab": {},
    "colab_type": "code",
    "id": "U03p59qt12bL"
   },
   "outputs": [],
   "source": [
    "features=original.drop(\"Personal Loan\",axis=1)\n",
    "targets=original[\"Personal Loan\"]\n",
    "\n",
    "loans = features.join(targets)"
   ]
  },
  {
   "cell_type": "code",
   "execution_count": 98,
   "metadata": {
    "colab": {
     "base_uri": "https://localhost:8080/",
     "height": 34
    },
    "colab_type": "code",
    "id": "Gu7K550Q13SU",
    "outputId": "eda864a1-fbfe-4854-fad2-e56f5dde8014"
   },
   "outputs": [
    {
     "data": {
      "text/plain": [
       "(5000, 14)"
      ]
     },
     "execution_count": 98,
     "metadata": {
      "tags": []
     },
     "output_type": "execute_result"
    }
   ],
   "source": [
    "loans.shape"
   ]
  },
  {
   "cell_type": "code",
   "execution_count": 99,
   "metadata": {
    "colab": {
     "base_uri": "https://localhost:8080/",
     "height": 119
    },
    "colab_type": "code",
    "id": "Vy15HOYn15CM",
    "outputId": "1001cf25-192d-4239-e88f-9e2b3b41d6ff"
   },
   "outputs": [
    {
     "name": "stdout",
     "output_type": "stream",
     "text": [
      "shape of df after 1th intertion of this loop is (10000, 14)\n",
      "shape of df after 2th intertion of this loop is (20000, 14)\n",
      "shape of df after 3th intertion of this loop is (40000, 14)\n",
      "shape of df after 4th intertion of this loop is (80000, 14)\n",
      "shape of df after 5th intertion of this loop is (160000, 14)\n",
      "shape of df after 6th intertion of this loop is (320000, 14)\n"
     ]
    }
   ],
   "source": [
    "\n",
    "\n",
    "\n",
    "for i in range(1,7):\n",
    "    copy = loans\n",
    "    copy['Income']=copy['Income']+random.gauss(1,10) # add noice to income\n",
    "    loans=loans.append(copy,ignore_index=True) # make voice df 2x as big\n",
    "    print(\"shape of df after {0}th intertion of this loop is {1}\".format(i,loans.shape))"
   ]
  },
  {
   "cell_type": "code",
   "execution_count": 100,
   "metadata": {
    "colab": {},
    "colab_type": "code",
    "id": "Xfm0AX2q17Kh"
   },
   "outputs": [],
   "source": [
    "loans[\"Experience\"] = loans[\"Experience\"].apply(abs)"
   ]
  },
  {
   "cell_type": "code",
   "execution_count": 101,
   "metadata": {
    "colab": {
     "base_uri": "https://localhost:8080/",
     "height": 71
    },
    "colab_type": "code",
    "id": "U9pCbytH19OB",
    "outputId": "cf3e2415-acb8-4216-d4ae-f57d55da851f"
   },
   "outputs": [
    {
     "name": "stderr",
     "output_type": "stream",
     "text": [
      "/usr/local/lib/python3.6/dist-packages/sklearn/utils/deprecation.py:87: FutureWarning: Function safe_indexing is deprecated; safe_indexing is deprecated in version 0.22 and will be removed in version 0.24.\n",
      "  warnings.warn(msg, category=FutureWarning)\n"
     ]
    }
   ],
   "source": [
    "feature = loans.drop([\"ID\",\"Personal Loan\"],axis=1)\n",
    "target = loans[\"Personal Loan\"]\n",
    "\n",
    "feature = feature.drop([\"ZIP Code\",\"Age\",\"Online\",\"CreditCard\"],axis=1)\n",
    "\n",
    "# feature[\"Combination\"] = (feature[\"Income\"]/12)-feature[\"CCAvg\"]\n",
    "# feature[\"Combination\"] = (feature[\"Income\"]/12)/feature[\"CCAvg\"]\n",
    "# feature[\"Combination\"] = (feature[\"Income\"]/12)*feature[\"CCAvg\"]\n",
    "feature[\"Combination\"] = (feature[\"Income\"]/12)**feature[\"CCAvg\"]\n",
    "\n",
    "\n",
    "scaler = StandardScaler();\n",
    "\n",
    "\n",
    "\n",
    "colscal=[\"Experience\",\"Mortgage\",\"Income\",\"CCAvg\",\"Combination\"]\n",
    "\n",
    "scaler.fit(feature[colscal])\n",
    "scaled_features = pd.DataFrame(scaler.transform(feature[colscal]),columns=colscal)\n",
    "\n",
    "feature =feature.drop(colscal,axis=1)\n",
    "feature = scaled_features.join(feature)\n",
    "\n",
    "\n",
    "X_train, X_test, y_train, y_test = train_test_split(feature,target,\n",
    "                                                    test_size=0.30,\n",
    "                                                    random_state=101)\n",
    "\n",
    "\n",
    "\n",
    "ros = RandomOverSampler(random_state=101)\n",
    "\n",
    "X_ros, y_ros = ros.fit_sample(X_train, y_train)"
   ]
  },
  {
   "cell_type": "code",
   "execution_count": 102,
   "metadata": {
    "colab": {
     "base_uri": "https://localhost:8080/",
     "height": 425
    },
    "colab_type": "code",
    "id": "y2YoANfE1_ri",
    "outputId": "5f2f72a0-7e74-433b-d2dc-a8ae965e51fb"
   },
   "outputs": [
    {
     "name": "stdout",
     "output_type": "stream",
     "text": [
      "Model: \"sequential\"\n",
      "_________________________________________________________________\n",
      "Layer (type)                 Output Shape              Param #   \n",
      "=================================================================\n",
      "dense (Dense)                (None, 72)                720       \n",
      "_________________________________________________________________\n",
      "dense_1 (Dense)              (None, 72)                5256      \n",
      "_________________________________________________________________\n",
      "dense_2 (Dense)              (None, 72)                5256      \n",
      "_________________________________________________________________\n",
      "dropout (Dropout)            (None, 72)                0         \n",
      "_________________________________________________________________\n",
      "dense_3 (Dense)              (None, 72)                5256      \n",
      "_________________________________________________________________\n",
      "dropout_1 (Dropout)          (None, 72)                0         \n",
      "_________________________________________________________________\n",
      "dense_4 (Dense)              (None, 72)                5256      \n",
      "_________________________________________________________________\n",
      "dense_5 (Dense)              (None, 1)                 73        \n",
      "=================================================================\n",
      "Total params: 21,817\n",
      "Trainable params: 21,817\n",
      "Non-trainable params: 0\n",
      "_________________________________________________________________\n"
     ]
    }
   ],
   "source": [
    "clf = Sequential([\n",
    "    Dense(units=72, kernel_initializer='uniform', input_dim=9, activation='relu'),\n",
    "    Dense(72, kernel_initializer='uniform', activation='relu'),\n",
    "    Dense(72, kernel_initializer='uniform', activation='relu'),\n",
    "    Dropout(0.1),\n",
    "    Dense(72, kernel_initializer='uniform', activation='relu'),\n",
    "    Dropout(0.1),\n",
    "    Dense(72, kernel_initializer='uniform', activation='relu'),\n",
    "    Dense(1, kernel_initializer='uniform', activation='sigmoid')\n",
    "])\n",
    "\n",
    "clf.summary()"
   ]
  },
  {
   "cell_type": "code",
   "execution_count": 103,
   "metadata": {
    "colab": {},
    "colab_type": "code",
    "id": "Wc-5Caov2E_j"
   },
   "outputs": [],
   "source": [
    "def recall(y_true, y_pred): \n",
    "\n",
    "    true_positives = K.sum(K.round(K.clip(y_true * y_pred, 0, 1))) \n",
    "    possible_positives = K.sum(K.round(K.clip(y_true, 0, 1))) \n",
    "    recall = true_positives / (possible_positives + K.epsilon()) \n",
    "    return recall"
   ]
  },
  {
   "cell_type": "code",
   "execution_count": 104,
   "metadata": {
    "colab": {},
    "colab_type": "code",
    "id": "d22oI2DX2F2E"
   },
   "outputs": [],
   "source": [
    "clf.compile(optimizer='adam', loss='binary_crossentropy', metrics=[recall,'accuracy'])"
   ]
  },
  {
   "cell_type": "code",
   "execution_count": 105,
   "metadata": {
    "colab": {
     "base_uri": "https://localhost:8080/",
     "height": 867
    },
    "colab_type": "code",
    "id": "_fM0gU_82Hke",
    "outputId": "1096aa8e-2dc0-4e0c-ff68-93a99f167a46"
   },
   "outputs": [
    {
     "name": "stdout",
     "output_type": "stream",
     "text": [
      "Epoch 1/25\n",
      "8104/8104 [==============================] - 14s 2ms/step - loss: 0.0588 - recall: 0.9831 - accuracy: 0.9764\n",
      "Epoch 2/25\n",
      "8104/8104 [==============================] - 15s 2ms/step - loss: 0.0086 - recall: 0.9979 - accuracy: 0.9974\n",
      "Epoch 3/25\n",
      "8104/8104 [==============================] - 15s 2ms/step - loss: 0.0027 - recall: 0.9993 - accuracy: 0.9992\n",
      "Epoch 4/25\n",
      "8104/8104 [==============================] - 14s 2ms/step - loss: 0.0038 - recall: 0.9990 - accuracy: 0.9989\n",
      "Epoch 5/25\n",
      "8104/8104 [==============================] - 15s 2ms/step - loss: 0.0020 - recall: 0.9995 - accuracy: 0.9995\n",
      "Epoch 6/25\n",
      "8104/8104 [==============================] - 14s 2ms/step - loss: 0.0011 - recall: 0.9997 - accuracy: 0.9997\n",
      "Epoch 7/25\n",
      "8104/8104 [==============================] - 14s 2ms/step - loss: 0.0019 - recall: 0.9997 - accuracy: 0.9996\n",
      "Epoch 8/25\n",
      "8104/8104 [==============================] - 14s 2ms/step - loss: 3.9593e-04 - recall: 0.9999 - accuracy: 0.9999\n",
      "Epoch 9/25\n",
      "8104/8104 [==============================] - 15s 2ms/step - loss: 0.0015 - recall: 0.9997 - accuracy: 0.9996\n",
      "Epoch 10/25\n",
      "8104/8104 [==============================] - 14s 2ms/step - loss: 0.0017 - recall: 0.9997 - accuracy: 0.9996\n",
      "Epoch 11/25\n",
      "8104/8104 [==============================] - 15s 2ms/step - loss: 0.0017 - recall: 0.9998 - accuracy: 0.9997\n",
      "Epoch 12/25\n",
      "8104/8104 [==============================] - 14s 2ms/step - loss: 0.0020 - recall: 0.9995 - accuracy: 0.9995\n",
      "Epoch 13/25\n",
      "8104/8104 [==============================] - 14s 2ms/step - loss: 0.0011 - recall: 0.9998 - accuracy: 0.9998\n",
      "Epoch 14/25\n",
      "8104/8104 [==============================] - 15s 2ms/step - loss: 0.0013 - recall: 0.9997 - accuracy: 0.9997\n",
      "Epoch 15/25\n",
      "8104/8104 [==============================] - 15s 2ms/step - loss: 4.0701e-06 - recall: 1.0000 - accuracy: 1.0000\n",
      "Epoch 16/25\n",
      "8104/8104 [==============================] - 15s 2ms/step - loss: 0.0026 - recall: 0.9995 - accuracy: 0.9995\n",
      "Epoch 17/25\n",
      "8104/8104 [==============================] - 15s 2ms/step - loss: 0.0019 - recall: 0.9996 - accuracy: 0.9996\n",
      "Epoch 18/25\n",
      "8104/8104 [==============================] - 14s 2ms/step - loss: 8.0360e-04 - recall: 0.9998 - accuracy: 0.9998\n",
      "Epoch 19/25\n",
      "8104/8104 [==============================] - 15s 2ms/step - loss: 7.7818e-04 - recall: 0.9998 - accuracy: 0.9998\n",
      "Epoch 20/25\n",
      "8104/8104 [==============================] - 15s 2ms/step - loss: 0.0019 - recall: 0.9996 - accuracy: 0.9996\n",
      "Epoch 21/25\n",
      "8104/8104 [==============================] - 15s 2ms/step - loss: 7.9648e-04 - recall: 0.9998 - accuracy: 0.9998\n",
      "Epoch 22/25\n",
      "8104/8104 [==============================] - 14s 2ms/step - loss: 4.4173e-04 - recall: 0.9999 - accuracy: 0.9999\n",
      "Epoch 23/25\n",
      "8104/8104 [==============================] - 15s 2ms/step - loss: 8.8537e-04 - recall: 0.9999 - accuracy: 0.9998\n",
      "Epoch 24/25\n",
      "8104/8104 [==============================] - 15s 2ms/step - loss: 2.8581e-07 - recall: 1.0000 - accuracy: 1.0000\n",
      "Epoch 25/25\n",
      "8104/8104 [==============================] - 15s 2ms/step - loss: 0.0046 - recall: 0.9998 - accuracy: 0.9998\n"
     ]
    }
   ],
   "source": [
    "history= clf.fit(X_ros, y_ros, batch_size=50, epochs=25)"
   ]
  },
  {
   "cell_type": "code",
   "execution_count": 106,
   "metadata": {
    "colab": {},
    "colab_type": "code",
    "id": "M8xnYo6L2JD-"
   },
   "outputs": [],
   "source": [
    "original = pd.read_excel(r'Data/Bank_Personal_Loan_Modelling.xlsx',sheet_name='Data')\n",
    "\n",
    "feature=original.drop(\"Personal Loan\",axis=1)\n",
    "target=original[\"Personal Loan\"]\n",
    "\n",
    "loans = feature.join(target)\n",
    "\n",
    "loans[\"Experience\"] = loans[\"Experience\"].apply(abs)\n",
    "\n",
    "feature = loans.drop([\"ID\",\"Personal Loan\"],axis=1)\n",
    "target = loans[\"Personal Loan\"]\n",
    "\n",
    "feature = feature.drop([\"ZIP Code\",\"Age\",\"Online\",\"CreditCard\"],axis=1)\n",
    "\n",
    "# feature[\"Combination\"] = (feature[\"Income\"]/12)-feature[\"CCAvg\"]\n",
    "# feature[\"Combination\"] = (feature[\"Income\"]/12)/feature[\"CCAvg\"]\n",
    "# feature[\"Combination\"] = (feature[\"Income\"]/12)*feature[\"CCAvg\"]\n",
    "feature[\"Combination\"] = (feature[\"Income\"]/12)**feature[\"CCAvg\"]\n",
    "\n",
    "\n",
    "scaler = StandardScaler();\n",
    "\n",
    "\n",
    "\n",
    "colscal=[\"Experience\",\"Mortgage\",\"Income\",\"CCAvg\",\"Combination\"]\n",
    "\n",
    "scaler.fit(feature[colscal])\n",
    "scaled_features = pd.DataFrame(scaler.transform(feature[colscal]),columns=colscal)\n",
    "\n",
    "feature =feature.drop(colscal,axis=1)\n",
    "feature = scaled_features.join(feature)\n",
    "\n",
    "\n",
    "X_train, X_test, y_train, y_test = train_test_split(feature,target,\n",
    "                                                    test_size=0.30,\n",
    "                                                    random_state=101)"
   ]
  },
  {
   "cell_type": "code",
   "execution_count": 107,
   "metadata": {
    "colab": {
     "base_uri": "https://localhost:8080/",
     "height": 102
    },
    "colab_type": "code",
    "id": "fGiN2Xl52SG0",
    "outputId": "26ee0a67-97b3-4874-d0ad-91112d0651f8"
   },
   "outputs": [
    {
     "name": "stdout",
     "output_type": "stream",
     "text": [
      "12/12 [==============================] - 0s 1ms/step - loss: 5.9072e-08 - recall: 1.0000 - accuracy: 1.0000\n",
      "\n",
      "And the Test Score is  \n",
      "Recall : 1.0 \n",
      "Accuracy : 1.0\n"
     ]
    }
   ],
   "source": [
    "score = clf.evaluate(X_test, y_test, batch_size=128)\n",
    "print('\\nAnd the Test Score is ',\"\\nRecall :\", score[1],\"\\nAccuracy :\",score[2])"
   ]
  },
  {
   "cell_type": "code",
   "execution_count": 108,
   "metadata": {
    "colab": {},
    "colab_type": "code",
    "id": "4lcxQ3EM2Ssu"
   },
   "outputs": [],
   "source": [
    "predictProb = pd.DataFrame(clf.predict(X_test.values))\n",
    "\n",
    "\n",
    "def fungsi(x):\n",
    "    if x<0.5:\n",
    "        return 0\n",
    "    else:\n",
    "        return 1\n",
    "\n",
    "predict = predictProb[0].apply(fungsi)"
   ]
  },
  {
   "cell_type": "code",
   "execution_count": 109,
   "metadata": {
    "colab": {
     "base_uri": "https://localhost:8080/",
     "height": 272
    },
    "colab_type": "code",
    "id": "H7x5lz-J2XAR",
    "outputId": "ae8e5a74-870e-4984-fb34-3c2a2e288f5e"
   },
   "outputs": [
    {
     "name": "stdout",
     "output_type": "stream",
     "text": [
      "[[1354    0]\n",
      " [   0  146]]\n",
      "              precision    recall  f1-score   support\n",
      "\n",
      "           0       1.00      1.00      1.00      1354\n",
      "           1       1.00      1.00      1.00       146\n",
      "\n",
      "    accuracy                           1.00      1500\n",
      "   macro avg       1.00      1.00      1.00      1500\n",
      "weighted avg       1.00      1.00      1.00      1500\n",
      "\n",
      "Recall Score 1.0\n",
      "ROC AUC : 1.0\n",
      "Accuracy : 1.0\n",
      "Matthews Corr_coef : 1.0\n"
     ]
    }
   ],
   "source": [
    "print(confusion_matrix(y_test, predict))\n",
    "print(classification_report(y_test, predict))\n",
    "print('Recall Score',recall_score(y_test, predict))\n",
    "print('ROC AUC :', roc_auc_score(y_test, predictProb[0]))\n",
    "print('Accuracy :',accuracy_score(y_test, predict))\n",
    "print('Matthews Corr_coef :',matthews_corrcoef(y_test, predict))"
   ]
  },
  {
   "cell_type": "code",
   "execution_count": 110,
   "metadata": {
    "colab": {
     "base_uri": "https://localhost:8080/",
     "height": 34
    },
    "colab_type": "code",
    "id": "Crd_6IFt2ZKe",
    "outputId": "789d83ef-2d3e-43c1-96b9-ba4074917bbc"
   },
   "outputs": [
    {
     "data": {
      "text/plain": [
       "dict_keys(['loss', 'recall', 'accuracy'])"
      ]
     },
     "execution_count": 110,
     "metadata": {
      "tags": []
     },
     "output_type": "execute_result"
    }
   ],
   "source": [
    "history_dict = history.history\n",
    "history_dict.keys()"
   ]
  },
  {
   "cell_type": "code",
   "execution_count": 111,
   "metadata": {
    "colab": {
     "base_uri": "https://localhost:8080/",
     "height": 279
    },
    "colab_type": "code",
    "id": "3cC0Vt8z2Z7R",
    "outputId": "a21519ee-d2f7-4947-f678-b469ee205acc"
   },
   "outputs": [
    {
     "data": {
      "image/png": "[encoded data removed]",
      "text/plain": [
       "<Figure size 432x288 with 1 Axes>"
      ]
     },
     "metadata": {
      "needs_background": "light",
      "tags": []
     },
     "output_type": "display_data"
    }
   ],
   "source": [
    "#plot the metrics during training. \n",
    "epochs = range(1, len(history_dict['loss']) + 1)\n",
    "\n",
    "plt.plot(epochs, history_dict['accuracy'], 'r',label='accuracy')\n",
    "plt.plot(epochs, history_dict['recall'], 'b',label='recall')\n",
    "\n",
    "plt.xlabel('Epochs')\n",
    "plt.grid()\n",
    "plt.legend()\n",
    "plt.show()"
   ]
  },
  {
   "cell_type": "markdown",
   "metadata": {
    "colab_type": "text",
    "id": "G1Nt3CBh4Y4c"
   },
   "source": [
    "## **Business Understanding of this Model**"
   ]
  },
  {
   "cell_type": "markdown",
   "metadata": {
    "colab_type": "text",
    "id": "dw_d04Hk4dIc"
   },
   "source": [
    "There are various positive aspects of this Machine Learning Model.\n",
    "\n",
    "\n",
    "\n",
    "1.   It will be helpful in targeting the particular customer.\n",
    "2.   It will be helpful in minimize the unneccessary spending on less valuable things.\n",
    "3.   It will also helpful in more accuracy while predicting the customer.\n",
    "\n",
    "These are tge some basics aspects of this model. This model not only useful in this type of sector but also we can use another sectors just by changing data and some code. This is very helpful to increase the growth of the business.\n",
    "\n"
   ]
  }
 ],
 "metadata": {
  "colab": {
   "name": "Marketing Campaign for Banking Products.ipynb",
   "provenance": []
  },
  "kernelspec": {
   "display_name": "Python 3",
   "language": "python",
   "name": "python3"
  },
  "language_info": {
   "codemirror_mode": {
    "name": "ipython",
    "version": 3
   },
   "file_extension": ".py",
   "mimetype": "text/x-python",
   "name": "python",
   "nbconvert_exporter": "python",
   "pygments_lexer": "ipython3",
   "version": "3.7.7"
  }
 },
 "nbformat": 4,
 "nbformat_minor": 1
}
